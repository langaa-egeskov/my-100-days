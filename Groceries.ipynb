{
 "cells": [
  {
   "cell_type": "code",
   "execution_count": 10,
   "metadata": {},
   "outputs": [],
   "source": [
    "from collections import namedtuple\n",
    "\n",
    "MAX_CRAVINGS = 2\n",
    "\n",
    "Item = namedtuple('Item', 'product price craving')\n",
    "\n",
    "class DuplicateProduct(Exception):\n",
    "    pass\n",
    "\n",
    "class MaxCravingsReached(Exception):\n",
    "    pass\n",
    "\n",
    "class Groceries:\n",
    "\n",
    "    def __init__(self, items=None):\n",
    "        \"\"\"This cart can be instantiated with a list of namedtuple\n",
    "           items, if not provided use an empty list\"\"\"\n",
    "        self._items = items if items is not None else []\n",
    "\n",
    "    def show(self):\n",
    "        \"\"\"Print a simple table of cart items with total at the end\"\"\"\n",
    "        for item in self._items:\n",
    "            product = f'{item.product}'\n",
    "            if item.craving:\n",
    "                product +='  (craving)'\n",
    "            print(f'{product:<30} | {item.price:>3}')\n",
    "        print('-' * 36)\n",
    "        print(f'{\"Total\":<30} | {self.due:>3}')\n",
    "\n",
    "    def add(self, new_item):\n",
    "        \"\"\"Add a new item to cart, raise exceptions if item already in\n",
    "           cart, or when we exceed MAX_CRAVINGS\"\"\"\n",
    "        if any(item for item in self if item.product == new_item.product):\n",
    "            raise DuplicateProduct(f'{new_item.product} already in items')\n",
    "        if new_item.craving and self.num_cravings_reached:\n",
    "            raise MaxCravingsReached(f'{MAX_CRAVINGS} allowed')\n",
    "        self._items.append(new_item)\n",
    "\n",
    "    def delete(self, product):\n",
    "        \"\"\"Delete item matching 'product', raises Index Error \n",
    "           if no item matches\"\"\"\n",
    "        for i, item in enumerate(self):\n",
    "            if item.product == product:\n",
    "                self._items.pop(i)\n",
    "                break\n",
    "        else:\n",
    "            raise IndexError(f'{product} not in cart')\n",
    "\n",
    "    def search(self, search):\n",
    "        \"\"\"Case insensitive 'contains' search, this is a\n",
    "           generator returning matching Item namedtuples\"\"\"\n",
    "        for item in self:\n",
    "            if search.lower() in item.product:\n",
    "                yield item\n",
    "\n",
    "    @property\n",
    "    def due(self):\n",
    "        \"\"\"Calculate total due value of cart\"\"\"\n",
    "        return sum(item.price for item in self)\n",
    "\n",
    "    @property \n",
    "    def num_cravings_reached(self):\n",
    "        \"\"\"Checks if I have too many cravings in my cart\"\"\"\n",
    "        return len([item for item in self if item.craving]) >= MAX_CRAVINGS\n",
    "\n",
    "    def __len__(self):\n",
    "        \"\"\"The len of cart\"\"\"\n",
    "        return len(self._items)\n",
    "\n",
    "    def __getitem__(self, index):\n",
    "        \"\"\"Making the class iterable (cart = Groceries() -> cart[1] etc)\n",
    "           without this dunder I would get 'TypeError: 'Cart' object does not \n",
    "           support indexing' when trying to index it\"\"\"\n",
    "        return self._items[index]"
   ]
  },
  {
   "cell_type": "code",
   "execution_count": 11,
   "metadata": {},
   "outputs": [],
   "source": [
    "apple = Item('apple', 2, False)\n",
    "salted_caramels = Item('salted caramels', 5, True)\n",
    "olives = Item('olives', 4 , True)\n",
    "ice_cream = Item('ice cream', 3, True)"
   ]
  },
  {
   "cell_type": "code",
   "execution_count": 12,
   "metadata": {},
   "outputs": [],
   "source": [
    "g = Groceries([apple, salted_caramels, olives, ice_cream])"
   ]
  },
  {
   "cell_type": "code",
   "execution_count": 13,
   "metadata": {},
   "outputs": [
    {
     "name": "stdout",
     "output_type": "stream",
     "text": [
      "apple                          |   2\n",
      "salted caramels  (craving)     |   5\n",
      "olives  (craving)              |   4\n",
      "ice cream  (craving)           |   3\n",
      "------------------------------------\n",
      "Total                          |  14\n"
     ]
    }
   ],
   "source": [
    "g.show()"
   ]
  },
  {
   "cell_type": "code",
   "execution_count": 16,
   "metadata": {},
   "outputs": [
    {
     "data": {
      "text/plain": [
       "True"
      ]
     },
     "execution_count": 16,
     "metadata": {},
     "output_type": "execute_result"
    }
   ],
   "source": [
    "g.search(apple)\n",
    "apple in g"
   ]
  },
  {
   "cell_type": "code",
   "execution_count": 17,
   "metadata": {},
   "outputs": [
    {
     "data": {
      "text/plain": [
       "True"
      ]
     },
     "execution_count": 17,
     "metadata": {},
     "output_type": "execute_result"
    }
   ],
   "source": [
    "olives in g"
   ]
  },
  {
   "cell_type": "code",
   "execution_count": 19,
   "metadata": {},
   "outputs": [
    {
     "data": {
      "text/plain": [
       "False"
      ]
     },
     "execution_count": 19,
     "metadata": {},
     "output_type": "execute_result"
    }
   ],
   "source": [
    "'fish' in g"
   ]
  },
  {
   "cell_type": "code",
   "execution_count": 20,
   "metadata": {},
   "outputs": [],
   "source": [
    "cheezit = Item('cheezit', 4, True)"
   ]
  },
  {
   "cell_type": "code",
   "execution_count": 21,
   "metadata": {},
   "outputs": [
    {
     "ename": "MaxCravingsReached",
     "evalue": "2 allowed",
     "output_type": "error",
     "traceback": [
      "\u001b[0;31m---------------------------------------------------------------------------\u001b[0m",
      "\u001b[0;31mMaxCravingsReached\u001b[0m                        Traceback (most recent call last)",
      "\u001b[0;32m<ipython-input-21-86ce9b44474a>\u001b[0m in \u001b[0;36m<module>\u001b[0;34m\u001b[0m\n\u001b[0;32m----> 1\u001b[0;31m \u001b[0mg\u001b[0m\u001b[0;34m.\u001b[0m\u001b[0madd\u001b[0m\u001b[0;34m(\u001b[0m\u001b[0mcheezit\u001b[0m\u001b[0;34m)\u001b[0m\u001b[0;34m\u001b[0m\u001b[0m\n\u001b[0m",
      "\u001b[0;32m<ipython-input-10-5806138b16aa>\u001b[0m in \u001b[0;36madd\u001b[0;34m(self, new_item)\u001b[0m\n\u001b[1;32m     34\u001b[0m             \u001b[0;32mraise\u001b[0m \u001b[0mDuplicateProduct\u001b[0m\u001b[0;34m(\u001b[0m\u001b[0;34mf'{new_item.product} already in items'\u001b[0m\u001b[0;34m)\u001b[0m\u001b[0;34m\u001b[0m\u001b[0m\n\u001b[1;32m     35\u001b[0m         \u001b[0;32mif\u001b[0m \u001b[0mnew_item\u001b[0m\u001b[0;34m.\u001b[0m\u001b[0mcraving\u001b[0m \u001b[0;32mand\u001b[0m \u001b[0mself\u001b[0m\u001b[0;34m.\u001b[0m\u001b[0mnum_cravings_reached\u001b[0m\u001b[0;34m:\u001b[0m\u001b[0;34m\u001b[0m\u001b[0m\n\u001b[0;32m---> 36\u001b[0;31m             \u001b[0;32mraise\u001b[0m \u001b[0mMaxCravingsReached\u001b[0m\u001b[0;34m(\u001b[0m\u001b[0;34mf'{MAX_CRAVINGS} allowed'\u001b[0m\u001b[0;34m)\u001b[0m\u001b[0;34m\u001b[0m\u001b[0m\n\u001b[0m\u001b[1;32m     37\u001b[0m         \u001b[0mself\u001b[0m\u001b[0;34m.\u001b[0m\u001b[0m_items\u001b[0m\u001b[0;34m.\u001b[0m\u001b[0mappend\u001b[0m\u001b[0;34m(\u001b[0m\u001b[0mnew_item\u001b[0m\u001b[0;34m)\u001b[0m\u001b[0;34m\u001b[0m\u001b[0m\n\u001b[1;32m     38\u001b[0m \u001b[0;34m\u001b[0m\u001b[0m\n",
      "\u001b[0;31mMaxCravingsReached\u001b[0m: 2 allowed"
     ]
    }
   ],
   "source": [
    "g.add(cheezit)"
   ]
  },
  {
   "cell_type": "code",
   "execution_count": 22,
   "metadata": {},
   "outputs": [],
   "source": [
    "spinach = Item('spinach', 3, False)"
   ]
  },
  {
   "cell_type": "code",
   "execution_count": 23,
   "metadata": {},
   "outputs": [],
   "source": [
    "g.add(spinach)"
   ]
  },
  {
   "cell_type": "code",
   "execution_count": 24,
   "metadata": {},
   "outputs": [
    {
     "name": "stdout",
     "output_type": "stream",
     "text": [
      "apple                          |   2\n",
      "salted caramels  (craving)     |   5\n",
      "olives  (craving)              |   4\n",
      "ice cream  (craving)           |   3\n",
      "spinach                        |   3\n",
      "------------------------------------\n",
      "Total                          |  17\n"
     ]
    }
   ],
   "source": [
    "g.show()"
   ]
  },
  {
   "cell_type": "code",
   "execution_count": 25,
   "metadata": {},
   "outputs": [
    {
     "ename": "TypeError",
     "evalue": "'int' object is not callable",
     "output_type": "error",
     "traceback": [
      "\u001b[0;31m---------------------------------------------------------------------------\u001b[0m",
      "\u001b[0;31mTypeError\u001b[0m                                 Traceback (most recent call last)",
      "\u001b[0;32m<ipython-input-25-4c3552609675>\u001b[0m in \u001b[0;36m<module>\u001b[0;34m\u001b[0m\n\u001b[0;32m----> 1\u001b[0;31m \u001b[0mg\u001b[0m\u001b[0;34m.\u001b[0m\u001b[0mdue\u001b[0m\u001b[0;34m(\u001b[0m\u001b[0;34m)\u001b[0m\u001b[0;34m\u001b[0m\u001b[0m\n\u001b[0m",
      "\u001b[0;31mTypeError\u001b[0m: 'int' object is not callable"
     ]
    }
   ],
   "source": [
    "g.due()"
   ]
  },
  {
   "cell_type": "code",
   "execution_count": 26,
   "metadata": {},
   "outputs": [
    {
     "data": {
      "text/plain": [
       "17"
      ]
     },
     "execution_count": 26,
     "metadata": {},
     "output_type": "execute_result"
    }
   ],
   "source": [
    "g.due"
   ]
  },
  {
   "cell_type": "code",
   "execution_count": 27,
   "metadata": {},
   "outputs": [
    {
     "data": {
      "text/plain": [
       "5"
      ]
     },
     "execution_count": 27,
     "metadata": {},
     "output_type": "execute_result"
    }
   ],
   "source": [
    "len(g)"
   ]
  },
  {
   "cell_type": "code",
   "execution_count": 28,
   "metadata": {},
   "outputs": [
    {
     "ename": "DuplicateProduct",
     "evalue": "apple already in items",
     "output_type": "error",
     "traceback": [
      "\u001b[0;31m---------------------------------------------------------------------------\u001b[0m",
      "\u001b[0;31mDuplicateProduct\u001b[0m                          Traceback (most recent call last)",
      "\u001b[0;32m<ipython-input-28-2d01abc07318>\u001b[0m in \u001b[0;36m<module>\u001b[0;34m\u001b[0m\n\u001b[0;32m----> 1\u001b[0;31m \u001b[0mg\u001b[0m\u001b[0;34m.\u001b[0m\u001b[0madd\u001b[0m\u001b[0;34m(\u001b[0m\u001b[0mapple\u001b[0m\u001b[0;34m)\u001b[0m\u001b[0;34m\u001b[0m\u001b[0m\n\u001b[0m",
      "\u001b[0;32m<ipython-input-10-5806138b16aa>\u001b[0m in \u001b[0;36madd\u001b[0;34m(self, new_item)\u001b[0m\n\u001b[1;32m     32\u001b[0m            cart, or when we exceed MAX_CRAVINGS\"\"\"\n\u001b[1;32m     33\u001b[0m         \u001b[0;32mif\u001b[0m \u001b[0many\u001b[0m\u001b[0;34m(\u001b[0m\u001b[0mitem\u001b[0m \u001b[0;32mfor\u001b[0m \u001b[0mitem\u001b[0m \u001b[0;32min\u001b[0m \u001b[0mself\u001b[0m \u001b[0;32mif\u001b[0m \u001b[0mitem\u001b[0m\u001b[0;34m.\u001b[0m\u001b[0mproduct\u001b[0m \u001b[0;34m==\u001b[0m \u001b[0mnew_item\u001b[0m\u001b[0;34m.\u001b[0m\u001b[0mproduct\u001b[0m\u001b[0;34m)\u001b[0m\u001b[0;34m:\u001b[0m\u001b[0;34m\u001b[0m\u001b[0m\n\u001b[0;32m---> 34\u001b[0;31m             \u001b[0;32mraise\u001b[0m \u001b[0mDuplicateProduct\u001b[0m\u001b[0;34m(\u001b[0m\u001b[0;34mf'{new_item.product} already in items'\u001b[0m\u001b[0;34m)\u001b[0m\u001b[0;34m\u001b[0m\u001b[0m\n\u001b[0m\u001b[1;32m     35\u001b[0m         \u001b[0;32mif\u001b[0m \u001b[0mnew_item\u001b[0m\u001b[0;34m.\u001b[0m\u001b[0mcraving\u001b[0m \u001b[0;32mand\u001b[0m \u001b[0mself\u001b[0m\u001b[0;34m.\u001b[0m\u001b[0mnum_cravings_reached\u001b[0m\u001b[0;34m:\u001b[0m\u001b[0;34m\u001b[0m\u001b[0m\n\u001b[1;32m     36\u001b[0m             \u001b[0;32mraise\u001b[0m \u001b[0mMaxCravingsReached\u001b[0m\u001b[0;34m(\u001b[0m\u001b[0;34mf'{MAX_CRAVINGS} allowed'\u001b[0m\u001b[0;34m)\u001b[0m\u001b[0;34m\u001b[0m\u001b[0m\n",
      "\u001b[0;31mDuplicateProduct\u001b[0m: apple already in items"
     ]
    }
   ],
   "source": [
    "g.add(apple)"
   ]
  },
  {
   "cell_type": "code",
   "execution_count": 29,
   "metadata": {},
   "outputs": [],
   "source": [
    "def _setup_items():\n",
    "    products = 'celery apples water coffee chicken pizza'.split()\n",
    "    prices = [1, 4, 2, 5, 6, 4]\n",
    "    cravings = False, False, False, False, False, True\n",
    "    for item in zip(products, prices, cravings):\n",
    "        yield Item(*item)"
   ]
  },
  {
   "cell_type": "code",
   "execution_count": 32,
   "metadata": {},
   "outputs": [],
   "source": [
    "cart = Groceries(list(_setup_items()))"
   ]
  },
  {
   "cell_type": "code",
   "execution_count": 33,
   "metadata": {},
   "outputs": [
    {
     "name": "stdout",
     "output_type": "stream",
     "text": [
      "celery                         |   1\n",
      "apples                         |   4\n",
      "water                          |   2\n",
      "coffee                         |   5\n",
      "chicken                        |   6\n",
      "pizza  (craving)               |   4\n",
      "------------------------------------\n",
      "Total                          |  22\n"
     ]
    }
   ],
   "source": [
    "0123456789012345678901234567890|0123"
   ]
  },
  {
   "cell_type": "raw",
   "metadata": {},
   "source": [
    "ln -s /Applications/Sublime\\ Text\\ 2.app/Contents/SharedSupport/bin/subl /usr/local/bin/sublime\n",
    "\n",
    "pytest -s --cov-report term-missing --cov='.'"
   ]
  },
  {
   "cell_type": "markdown",
   "metadata": {},
   "source": [
    "I learned how to format better !!! awesome"
   ]
  }
 ],
 "metadata": {
  "kernelspec": {
   "display_name": "Python 3",
   "language": "python",
   "name": "python3"
  },
  "language_info": {
   "codemirror_mode": {
    "name": "ipython",
    "version": 3
   },
   "file_extension": ".py",
   "mimetype": "text/x-python",
   "name": "python",
   "nbconvert_exporter": "python",
   "pygments_lexer": "ipython3",
   "version": "3.7.0"
  }
 },
 "nbformat": 4,
 "nbformat_minor": 2
}
