{
 "cells": [
  {
   "cell_type": "code",
   "execution_count": 1,
   "metadata": {},
   "outputs": [
    {
     "name": "stdout",
     "output_type": "stream",
     "text": [
      "('Tim', 'DE', False)\n",
      "('Bob', 'ES', True)\n",
      "('Julian', 'AUS', True)\n",
      "('Carmen', 'NL', False)\n",
      "('Sofia', 'BR', True)\n",
      "('Mike', 'US', '-')\n",
      "('Kim', '-', '-')\n",
      "('Andre', '-', '-')\n"
     ]
    }
   ],
   "source": [
    "# PyBite 64\n",
    "\n",
    "import itertools\n",
    "\n",
    "names = 'Tim Bob Julian Carmen Sofia Mike Kim Andre'.split()\n",
    "locations = 'DE ES AUS NL BR US'.split()\n",
    "confirmed = [False, True, True, False, True]\n",
    "\n",
    "\n",
    "def get_attendees():\n",
    "    for participant in itertools.zip_longest(names, locations, confirmed, fillvalue='-'):\n",
    "        print(participant)\n",
    "\n",
    "\n",
    "if __name__ == '__main__':\n",
    "    get_attendees()"
   ]
  },
  {
   "cell_type": "code",
   "execution_count": 3,
   "metadata": {},
   "outputs": [
    {
     "name": "stdout",
     "output_type": "stream",
     "text": [
      "============================================== test session starts ==============================================\n",
      "platform darwin -- Python 3.7.0, pytest-3.8.2, py-1.7.0, pluggy-0.7.1\n",
      "rootdir: /Users/NewEarth/Documents/Projects/ANewTraining/Python/HundredDaysCode/My100Days/Day_020, inifile:\n",
      "plugins: cov-2.6.0\n",
      "collected 1 item\n",
      "\n",
      "Day_020.py .                                                                                              [100%]\n",
      "\n",
      "=========================================== 1 passed in 0.05 seconds ============================================\n"
     ]
    }
   ],
   "source": [
    "import pytest\n",
    "import ipytest\n",
    "import ipytest.magics\n",
    "\n",
    "ipytest.config.rewrite_asserts = True\n",
    "__file__  = 'Day_020.ipynb'\n",
    "\n",
    "def test_get_attendees(capfd):\n",
    "    get_attendees()\n",
    "    output = capfd.readouterr()[0].strip().split(\"\\n\")\n",
    "\n",
    "    assert len(output) == 8\n",
    "    assert \"('Kim', '-', '-')\" in output\n",
    "    assert \"('Andre', '-', '-')\" in output\n",
    "    \n",
    "ipytest.run()"
   ]
  },
  {
   "cell_type": "code",
   "execution_count": null,
   "metadata": {},
   "outputs": [],
   "source": []
  }
 ],
 "metadata": {
  "kernelspec": {
   "display_name": "Python 3",
   "language": "python",
   "name": "python3"
  },
  "language_info": {
   "codemirror_mode": {
    "name": "ipython",
    "version": 3
   },
   "file_extension": ".py",
   "mimetype": "text/x-python",
   "name": "python",
   "nbconvert_exporter": "python",
   "pygments_lexer": "ipython3",
   "version": "3.7.0"
  }
 },
 "nbformat": 4,
 "nbformat_minor": 2
}
