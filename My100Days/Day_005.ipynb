{
 "cells": [
  {
   "cell_type": "markdown",
   "metadata": {},
   "source": [
    "https://github.com/sundeepblue/movie_rating_prediction\n",
    "https://nycdatascience.com/blog/student-works/machine-learning/movie-rating-prediction/\n",
    "https://pybit.es/codechallenge13.html"
   ]
  },
  {
   "cell_type": "code",
   "execution_count": 3,
   "metadata": {},
   "outputs": [],
   "source": [
    "from collections import defaultdict, namedtuple, Counter, deque\n",
    "import csv\n",
    "import random\n",
    "from urllib.request import urlretrieve"
   ]
  },
  {
   "cell_type": "markdown",
   "metadata": {},
   "source": [
    "looking at this it was confusing what was happening; in my own code I would call movie_data data_url and I would set the file name movies_csv to be the actual file name movie_metadata.csv. Im deleting movies_csv since I had actually already downloaded the data."
   ]
  },
  {
   "cell_type": "code",
   "execution_count": 10,
   "metadata": {},
   "outputs": [],
   "source": [
    "#movie_url = 'https://raw.githubusercontent.com/pybites/challenges/solutions/13/movie_metadata.csv'\n",
    "movies_csv = 'movie_metadata.csv'\n",
    "#urlretrieve(movie_url, movies_movie_metadata.csv)"
   ]
  },
  {
   "cell_type": "code",
   "execution_count": 11,
   "metadata": {},
   "outputs": [],
   "source": [
    "Movie = namedtuple('Movie', 'title year score')"
   ]
  },
  {
   "cell_type": "code",
   "execution_count": 12,
   "metadata": {},
   "outputs": [],
   "source": [
    "def get_movies_by_director(data=movies_csv):\n",
    "    \"\"\"Extracts all movies from csv and stores them in a dictionary\n",
    "       where keys are directors, and values is a list of movies (named tuples)\"\"\"\n",
    "    directors = defaultdict(list)\n",
    "    with open(data, encoding = 'utf-8') as f:\n",
    "        for line in csv.DictReader(f):\n",
    "            try:\n",
    "                director = line['director_name']\n",
    "                movie = line['movie_title'].replace('\\xa0', '')\n",
    "                year = int(line['title_year'])\n",
    "                score = float(line['imdb_score'])\n",
    "            except ValueError:\n",
    "                continue\n",
    "                \n",
    "            m = Movie(title=movie, year=year, score=score)\n",
    "            directors[director].append(m)\n",
    "    return directors"
   ]
  },
  {
   "cell_type": "code",
   "execution_count": 13,
   "metadata": {},
   "outputs": [],
   "source": [
    "directors = get_movies_by_director()"
   ]
  },
  {
   "cell_type": "code",
   "execution_count": 14,
   "metadata": {},
   "outputs": [
    {
     "data": {
      "text/plain": [
       "collections.defaultdict"
      ]
     },
     "execution_count": 14,
     "metadata": {},
     "output_type": "execute_result"
    }
   ],
   "source": [
    "type(directors)"
   ]
  },
  {
   "cell_type": "code",
   "execution_count": 15,
   "metadata": {},
   "outputs": [
    {
     "data": {
      "text/plain": [
       "[Movie(title='The Dark Knight Rises', year=2012, score=8.5),\n",
       " Movie(title='The Dark Knight', year=2008, score=9.0),\n",
       " Movie(title='Interstellar', year=2014, score=8.6),\n",
       " Movie(title='Inception', year=2010, score=8.8),\n",
       " Movie(title='Batman Begins', year=2005, score=8.3),\n",
       " Movie(title='Insomnia', year=2002, score=7.2),\n",
       " Movie(title='The Prestige', year=2006, score=8.5),\n",
       " Movie(title='Memento', year=2000, score=8.5)]"
      ]
     },
     "execution_count": 15,
     "metadata": {},
     "output_type": "execute_result"
    }
   ],
   "source": [
    "directors['Christopher Nolan']"
   ]
  },
  {
   "cell_type": "markdown",
   "metadata": {},
   "source": [
    "This is a little differet then the way I have used counter, gotten read the docs"
   ]
  },
  {
   "cell_type": "code",
   "execution_count": 16,
   "metadata": {},
   "outputs": [
    {
     "data": {
      "text/plain": [
       "[('Steven Spielberg', 26),\n",
       " ('Woody Allen', 22),\n",
       " ('Martin Scorsese', 20),\n",
       " ('Clint Eastwood', 20),\n",
       " ('Ridley Scott', 17),\n",
       " ('Tim Burton', 16),\n",
       " ('Steven Soderbergh', 16),\n",
       " ('Spike Lee', 16),\n",
       " ('Renny Harlin', 15),\n",
       " ('Oliver Stone', 14)]"
      ]
     },
     "execution_count": 16,
     "metadata": {},
     "output_type": "execute_result"
    }
   ],
   "source": [
    "cnt = Counter()\n",
    "for director, movies in directors.items():\n",
    "    cnt[director] += len(movies)\n",
    "cnt.most_common(10)"
   ]
  },
  {
   "cell_type": "code",
   "execution_count": 19,
   "metadata": {},
   "outputs": [
    {
     "name": "stdout",
     "output_type": "stream",
     "text": [
      "('James Cameron', [Movie(title='Avatar', year=2009, score=7.9), Movie(title='Titanic', year=1997, score=7.7), Movie(title='Terminator 2: Judgment Day', year=1991, score=8.5), Movie(title='True Lies', year=1994, score=7.2), Movie(title='The Abyss', year=1989, score=7.6), Movie(title='Aliens', year=1986, score=8.4), Movie(title='The Terminator', year=1984, score=8.1)])\n",
      "('Gore Verbinski', [Movie(title=\"Pirates of the Caribbean: At World's End\", year=2007, score=7.1), Movie(title=\"Pirates of the Caribbean: Dead Man's Chest\", year=2006, score=7.3), Movie(title='The Lone Ranger', year=2013, score=6.5), Movie(title='Rango', year=2011, score=7.2), Movie(title='Pirates of the Caribbean: The Curse of the Black Pearl', year=2003, score=8.1), Movie(title='The Mexican', year=2001, score=6.1), Movie(title='The Weather Man', year=2005, score=6.6)])\n",
      "('Sam Mendes', [Movie(title='Spectre', year=2015, score=6.8), Movie(title='Skyfall', year=2012, score=7.8), Movie(title='Road to Perdition', year=2002, score=7.7), Movie(title='Jarhead', year=2005, score=7.1), Movie(title='Revolutionary Road', year=2008, score=7.3), Movie(title='Away We Go', year=2009, score=7.1), Movie(title='American Beauty', year=1999, score=8.4), Movie(title='Skyfall', year=2012, score=7.8)])\n",
      "('Christopher Nolan', [Movie(title='The Dark Knight Rises', year=2012, score=8.5), Movie(title='The Dark Knight', year=2008, score=9.0), Movie(title='Interstellar', year=2014, score=8.6), Movie(title='Inception', year=2010, score=8.8), Movie(title='Batman Begins', year=2005, score=8.3), Movie(title='Insomnia', year=2002, score=7.2), Movie(title='The Prestige', year=2006, score=8.5), Movie(title='Memento', year=2000, score=8.5)])\n",
      "('Andrew Stanton', [Movie(title='John Carter', year=2012, score=6.6), Movie(title='WALL·E', year=2008, score=8.4), Movie(title='Finding Nemo', year=2003, score=8.2)])\n"
     ]
    }
   ],
   "source": [
    "\n",
    "for i, item in enumerate(directors.items()):\n",
    "    if i < 5:\n",
    "        print(item)"
   ]
  },
  {
   "cell_type": "code",
   "execution_count": 28,
   "metadata": {},
   "outputs": [
    {
     "name": "stdout",
     "output_type": "stream",
     "text": [
      "A, 6\n",
      "B, 6\n",
      "C, 2\n",
      "D, 1\n"
     ]
    }
   ],
   "source": [
    "from itertools import groupby\n",
    "for k, v in groupby(sorted('AAAABBBCCDAABBB')):\n",
    "    print(f'{k}, {len(list(v))}')"
   ]
  },
  {
   "cell_type": "code",
   "execution_count": null,
   "metadata": {},
   "outputs": [],
   "source": []
  }
 ],
 "metadata": {
  "kernelspec": {
   "display_name": "Python 3",
   "language": "python",
   "name": "python3"
  },
  "language_info": {
   "codemirror_mode": {
    "name": "ipython",
    "version": 3
   },
   "file_extension": ".py",
   "mimetype": "text/x-python",
   "name": "python",
   "nbconvert_exporter": "python",
   "pygments_lexer": "ipython3",
   "version": "3.7.0"
  }
 },
 "nbformat": 4,
 "nbformat_minor": 2
}
