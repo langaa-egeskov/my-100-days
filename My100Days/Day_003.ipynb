{
 "cells": [
  {
   "cell_type": "markdown",
   "metadata": {},
   "source": [
    "Bite 67: Working with Date Time"
   ]
  },
  {
   "cell_type": "code",
   "execution_count": 1,
   "metadata": {},
   "outputs": [],
   "source": [
    "from datetime import date, timedelta\n",
    "\n",
    "start_100days = date(2017, 3, 30)\n",
    "pybites_founded = date(2016, 12, 19)\n",
    "pycon_date = date(2018, 5, 8)\n",
    "\n",
    "\n",
    "def get_hundred_days_end_date():\n",
    "    \"\"\"Return a string of yyyy-mm-dd\"\"\"\n",
    "    return (start_100days + timedelta(days=100)).strftime('%Y-%m-%d')\n",
    "\n",
    "\n",
    "def get_days_between_pb_start_first_joint_pycon():\n",
    "    \"\"\"Return the int number of days\"\"\"\n",
    "    return (pycon_date - pybites_founded).days"
   ]
  },
  {
   "cell_type": "code",
   "execution_count": 2,
   "metadata": {},
   "outputs": [
    {
     "data": {
      "text/plain": [
       "'2017-07-08'"
      ]
     },
     "execution_count": 2,
     "metadata": {},
     "output_type": "execute_result"
    }
   ],
   "source": [
    "get_hundred_days_end_date()"
   ]
  },
  {
   "cell_type": "code",
   "execution_count": 3,
   "metadata": {},
   "outputs": [
    {
     "data": {
      "text/plain": [
       "505"
      ]
     },
     "execution_count": 3,
     "metadata": {},
     "output_type": "execute_result"
    }
   ],
   "source": [
    "get_days_between_pb_start_first_joint_pycon()"
   ]
  },
  {
   "cell_type": "code",
   "execution_count": 4,
   "metadata": {},
   "outputs": [],
   "source": [
    "import pytest\n",
    "import ipytest\n",
    "\n",
    "# enable IPython magics for test execution\n",
    "import ipytest.magics\n",
    "\n",
    "# enable pytest's assertions\n",
    "ipytest.config.rewrite_asserts = True\n",
    "\n",
    "# set the filename\n",
    "__file__ = 'Day_003.ipynb'"
   ]
  },
  {
   "cell_type": "code",
   "execution_count": 5,
   "metadata": {},
   "outputs": [
    {
     "name": "stdout",
     "output_type": "stream",
     "text": [
      "============================= test session starts ==============================\n",
      "platform darwin -- Python 3.7.0, pytest-3.8.2, py-1.7.0, pluggy-0.7.1\n",
      "rootdir: /Users/NewEarth/Documents/Projects/ANewTraining/Python/HundredDaysCode/My100Days, inifile:\n",
      "collected 2 items\n",
      "\n",
      "Day_003.py ..                                                            [100%]\n",
      "\n",
      "=========================== 2 passed in 0.04 seconds ===========================\n"
     ]
    }
   ],
   "source": [
    "#from calc_dts import (get_hundred_days_end_date,\n",
    "#                      get_days_between_pb_start_first_joint_pycon)\n",
    "\n",
    "\n",
    "def test_get_hundred_days_end_date():\n",
    "    assert get_hundred_days_end_date() == '2017-07-08'\n",
    "\n",
    "\n",
    "def test_get_days_till_pycon_meetup():\n",
    "    assert get_days_between_pb_start_first_joint_pycon() == 505\n",
    "    \n",
    "ipytest.run()"
   ]
  },
  {
   "cell_type": "markdown",
   "metadata": {},
   "source": [
    "Bite 128. Work with datetime's strptime and strftime"
   ]
  },
  {
   "cell_type": "code",
   "execution_count": 6,
   "metadata": {},
   "outputs": [],
   "source": [
    "from datetime import datetime\n",
    "\n",
    "THIS_YEAR = 2018\n",
    "\n",
    "\n",
    "def years_ago(date):\n",
    "    \"\"\"Receives a date string of 'DD MMM, YYYY', for example: 8 Aug, 2015\n",
    "       Convert this date str to a datetime object (use strptime).\n",
    "       Then extract the year from the obtained datetime object and subtract\n",
    "       it from the THIS_YEAR constant above, returning the int difference.\n",
    "       So in this example you would get: 2018 - 2015 = 3\"\"\"\n",
    "    return THIS_YEAR - datetime.strptime(date,'%d %b, %Y').year\n",
    "\n",
    "\n",
    "def convert_eu_to_us_date(date):\n",
    "    \"\"\"Receives a date string in European format of dd/mm/yyyy, e.g. 11/03/2002\n",
    "       Convert it to an American date: mm/dd/yyyy (in this case 03/11/2002).\n",
    "       To enforce the use of datetime's strptime / strftime (over slicing)\n",
    "       the tests check if a ValueError is raised for invalid day/month/year\n",
    "       ranges (no need to code this, datetime does this out of the box)\"\"\"\n",
    "    return datetime.strptime(date,'%d/%m/%Y').strftime('%m/%d/%Y')"
   ]
  },
  {
   "cell_type": "code",
   "execution_count": 7,
   "metadata": {},
   "outputs": [
    {
     "data": {
      "text/plain": [
       "3"
      ]
     },
     "execution_count": 7,
     "metadata": {},
     "output_type": "execute_result"
    }
   ],
   "source": [
    "test = '8 Aug, 2015'\n",
    "years_ago(test)"
   ]
  },
  {
   "cell_type": "code",
   "execution_count": 8,
   "metadata": {},
   "outputs": [
    {
     "data": {
      "text/plain": [
       "'03/11/2002'"
      ]
     },
     "execution_count": 8,
     "metadata": {},
     "output_type": "execute_result"
    }
   ],
   "source": [
    "test2 = '11/03/2002'\n",
    "convert_eu_to_us_date(test2)"
   ]
  },
  {
   "cell_type": "code",
   "execution_count": 9,
   "metadata": {},
   "outputs": [
    {
     "name": "stdout",
     "output_type": "stream",
     "text": [
      "============================= test session starts ==============================\n",
      "platform darwin -- Python 3.7.0, pytest-3.8.2, py-1.7.0, pluggy-0.7.1\n",
      "rootdir: /Users/NewEarth/Documents/Projects/ANewTraining/Python/HundredDaysCode/My100Days, inifile:\n",
      "collected 8 items\n",
      "\n",
      "Day_003.py ........                                                      [100%]\n",
      "\n",
      "=========================== 8 passed in 0.05 seconds ===========================\n"
     ]
    }
   ],
   "source": [
    "#import pytest\n",
    "\n",
    "#from dt_convert import years_ago, convert_eu_to_us_date\n",
    "\n",
    "\n",
    "def test_years_ago():\n",
    "    assert years_ago('8 Aug, 2015') == 3\n",
    "    assert years_ago('6 Sep, 2014') == 4\n",
    "    assert years_ago('1 Oct, 2010') == 8\n",
    "    assert years_ago('31 Dec, 1958') == 60\n",
    "\n",
    "\n",
    "def test_years_ago_wrong_input():\n",
    "    with pytest.raises(ValueError):\n",
    "        # Sept != valid %b value 'Sep'\n",
    "        assert years_ago('6 Sept, 2014') == 4\n",
    "\n",
    "\n",
    "def test_convert_eu_to_us_date():\n",
    "    assert convert_eu_to_us_date('11/03/2002') == '03/11/2002'\n",
    "    assert convert_eu_to_us_date('18/04/2008') == '04/18/2008'\n",
    "    assert convert_eu_to_us_date('12/12/2014') == '12/12/2014'\n",
    "    assert convert_eu_to_us_date('1/3/2004') == '03/01/2004'\n",
    "\n",
    "\n",
    "def test_convert_eu_to_us_date_invalid_day():\n",
    "    with pytest.raises(ValueError):\n",
    "        convert_eu_to_us_date('41/03/2002')\n",
    "\n",
    "\n",
    "def test_convert_eu_to_us_date_invalid_month():\n",
    "    with pytest.raises(ValueError):\n",
    "        convert_eu_to_us_date('11/13/2002')\n",
    "\n",
    "\n",
    "def test_convert_eu_to_us_date_invalid_year():\n",
    "    with pytest.raises(ValueError):\n",
    "        convert_eu_to_us_date('11/13/year')\n",
    "        \n",
    "ipytest.run()"
   ]
  },
  {
   "cell_type": "code",
   "execution_count": 16,
   "metadata": {},
   "outputs": [],
   "source": [
    "import datetime\n",
    "import pygame"
   ]
  },
  {
   "cell_type": "code",
   "execution_count": 25,
   "metadata": {},
   "outputs": [],
   "source": [
    "def pomodoro(hour=0, minute=0, second=0):\n",
    "    time_start = datetime.now().time()\n",
    "    time_in_sec = hour*3600 + minute*60 + second\n",
    "    time.sleep(time_in_sec)\n",
    "    time_end = datetime.now().time()\n",
    "    pygame.mixer.init()\n",
    "    pygame.mixer.music.load(\"old-fashioned-school-bell-daniel_simon.wav\")\n",
    "    pygame.mixer.music.play()\n",
    "    pygame.mixer.music.fadeout(5000)\n",
    "    return print(f'Time is up, timer started at {time_start} and it is now {time_end}')"
   ]
  },
  {
   "cell_type": "code",
   "execution_count": 27,
   "metadata": {},
   "outputs": [
    {
     "name": "stdout",
     "output_type": "stream",
     "text": [
      "Time is up it, timer started at 19:35:23.360442 and it is now 19:36:23.365909\n"
     ]
    }
   ],
   "source": [
    "pomodoro(minute=1)"
   ]
  },
  {
   "cell_type": "code",
   "execution_count": null,
   "metadata": {},
   "outputs": [],
   "source": []
  }
 ],
 "metadata": {
  "kernelspec": {
   "display_name": "Python 3",
   "language": "python",
   "name": "python3"
  },
  "language_info": {
   "codemirror_mode": {
    "name": "ipython",
    "version": 3
   },
   "file_extension": ".py",
   "mimetype": "text/x-python",
   "name": "python",
   "nbconvert_exporter": "python",
   "pygments_lexer": "ipython3",
   "version": "3.7.0"
  }
 },
 "nbformat": 4,
 "nbformat_minor": 2
}
