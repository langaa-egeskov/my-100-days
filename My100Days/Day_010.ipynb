{
 "cells": [
  {
   "cell_type": "markdown",
   "metadata": {},
   "source": [
    "Sad but only had time to watch the videos and come up with a #TODO list and notes. but happily have tomorrow off..."
   ]
  },
  {
   "cell_type": "markdown",
   "metadata": {},
   "source": [
    "The Hitchhikers Guide to Python Testing\n",
    "https://docs.python-guide.org/ \n",
    "- testing section\n",
    "- venv with alias\n",
    "- decorators with @property \n",
    "- @patch.object to mock a random value or user input\n",
    "- unit test and pytest\n",
    "- control z to toggle between vim and editor\n",
    "- ill just set up sublime I think…i dont know, or do i go throoug the little tutorial again??? ugh\n",
    "- pytest cov\n",
    "- oh but is his vimrc file in there?? gotta see\n",
    "- capfd\n",
    "- fizz buzz\n",
    "- parameterize\n",
    "- TDD test driven development\n",
    "- type through the guess game and the tests\n",
    "- testing exceptions\n",
    "- the use of the dunder methods\n",
    "- DRY what is (parameterize is DRY)\n",
    "- pybite 39\n",
    "- flask api\n",
    "- fixtures and the bob bebderos article on pybites\n",
    "- obviously the nice pytest book … already reading Brian Okken\n",
    "- kind of good b/c havent been using decorators"
   ]
  }
 ],
 "metadata": {
  "kernelspec": {
   "display_name": "Python 3",
   "language": "python",
   "name": "python3"
  },
  "language_info": {
   "codemirror_mode": {
    "name": "ipython",
    "version": 3
   },
   "file_extension": ".py",
   "mimetype": "text/x-python",
   "name": "python",
   "nbconvert_exporter": "python",
   "pygments_lexer": "ipython3",
   "version": "3.7.0"
  }
 },
 "nbformat": 4,
 "nbformat_minor": 2
}
