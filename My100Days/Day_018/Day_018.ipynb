{
 "cells": [
  {
   "cell_type": "markdown",
   "metadata": {},
   "source": [
    "#### Setting up for Code Challenge 11 - Generators for Fun and Profit"
   ]
  },
  {
   "cell_type": "code",
   "execution_count": null,
   "metadata": {},
   "outputs": [],
   "source": [
    "# TODO Finish the pdf from dabeaz, read pybit article\n",
    "# also HTTP: The Definitive Guide\n",
    "# Always the standard library\n",
    "# https://pybit.es/generators.html\n",
    "# Wikipedia article on Unix Pipeline: https://en.wikipedia.org/wiki/Pipeline_(Unix) - ok\n",
    "# http://www.dabeaz.com/generators/ ==> http://www.dabeaz.com/generators2/Generators.pdf\n",
    "# sed https://www.gnu.org/software/sed/manual/sed.html#Overview\n",
    "# sort http://www.tutorialspoint.com/unix_commands/sort.htm"
   ]
  },
  {
   "cell_type": "code",
   "execution_count": null,
   "metadata": {},
   "outputs": [],
   "source": [
    "\"\"\"\n",
    "Turn the following unix pipeline into Python code using generators\n",
    "$ for i in ../*/*py; do grep ^import $i|sed 's/import //g' ; done | sort | uniq -c | sort -nr\n",
    "   4 unittest\n",
    "   4 sys\n",
    "   3 re\n",
    "   3 csv\n",
    "   2 tweepy\n",
    "   2 random\n",
    "   2 os\n",
    "   2 json\n",
    "   2 itertools\n",
    "   1 time\n",
    "   1 datetime\n",
    "\"\"\"\n",
    "\n",
    "def gen_files(pat):\n",
    "    pass\n",
    "\n",
    "def gen_lines(files):\n",
    "    pass\n",
    "\n",
    "def gen_grep(lines, pattern):\n",
    "    pass\n",
    "\n",
    "def gen_count(lines):\n",
    "    pass\n",
    "\n",
    "\n",
    "if __name__ == \"__main__\":\n",
    "    # call the generators, passing one to the other\n",
    "    files = gen_files('../*/*.py')\n",
    "    lines = gen_lines(files)\n",
    "    # etc\n"
   ]
  },
  {
   "cell_type": "raw",
   "metadata": {},
   "source": [
    "### http://www.dabeaz.com/generators2/Generators.pdf \n",
    "This is an awesome reference that I am taking notes on: Copyright (C) 2008, http://www.dabeaz.com\n",
    "He offers in person classes in Chicago with a tiny class size of 6 people for < $3000 seems pretty awesome"
   ]
  },
  {
   "cell_type": "code",
   "execution_count": 11,
   "metadata": {},
   "outputs": [],
   "source": [
    "line = '81.107.39.38 -  ... \"GET /ply/ply.html HTTP/1.1\" 200 97238'\n",
    "bytestr = line.rsplit(None,1)"
   ]
  },
  {
   "cell_type": "code",
   "execution_count": 12,
   "metadata": {},
   "outputs": [
    {
     "data": {
      "text/plain": [
       "['81.107.39.38 -  ... \"GET /ply/ply.html HTTP/1.1\" 200', '97238']"
      ]
     },
     "execution_count": 12,
     "metadata": {},
     "output_type": "execute_result"
    }
   ],
   "source": [
    "bytestr"
   ]
  },
  {
   "cell_type": "code",
   "execution_count": 13,
   "metadata": {},
   "outputs": [
    {
     "data": {
      "text/plain": [
       "['81.107.39.38 -  ... \"GET /ply/ply.html HTTP/1.1\"', '200', '97238']"
      ]
     },
     "execution_count": 13,
     "metadata": {},
     "output_type": "execute_result"
    }
   ],
   "source": [
    "bytestr = line.rsplit(None,2)\n",
    "bytestr "
   ]
  },
  {
   "cell_type": "raw",
   "metadata": {},
   "source": [
    "Standard Library Documentation\n",
    "str.rsplit(sep=None, maxsplit=-1)\n",
    "Return a list of the words in the string, using sep as the delimiter string. If maxsplit is given, at most maxsplit splits are done, the rightmost ones. If sep is not specified or None, any whitespace string is a separator. Except for splitting from the right, rsplit() behaves like split() which is described in detail below.\n",
    "\n",
    "Looks like it starts from the right"
   ]
  },
  {
   "cell_type": "raw",
   "metadata": {},
   "source": [
    "Standard Library Documentation\n",
    "os.walk(top, topdown=True, onerror=None, followlinks=False)\n",
    "Generate the file names in a directory tree by walking the tree either top-down or bottom-up. For each directory in the tree rooted at directory top (including top itself), it yields a 3-tuple (dirpath, dirnames, filenames)."
   ]
  },
  {
   "cell_type": "raw",
   "metadata": {},
   "source": [
    "import os\n",
    "\n",
    "for path, dirlist, filelist in os.walk(topdir):\n",
    "    # path     : Current Directory\n",
    "    # dirlist  : List of subdirectories\n",
    "    # filelist : List of files"
   ]
  },
  {
   "cell_type": "raw",
   "metadata": {},
   "source": [
    "Standard Library Documentation\n",
    "fnmatch.fnmatch(filename, pattern)\n",
    "Test whether the filename string matches the pattern string, returning True or False. Both parameters are case-normalized using os.path.normcase(). fnmatchcase() can be used to perform a case-sensitive comparison, regardless of whether that’s standard for the operating system.\n",
    "\n",
    "This example will print all file names in the current directory with the extension .txt:\n",
    "\n",
    "import fnmatch\n",
    "import os\n",
    "\n",
    "for file in os.listdir('.'):\n",
    "    if fnmatch.fnmatch(file, '*.txt'):\n",
    "        print(file)"
   ]
  },
  {
   "cell_type": "raw",
   "metadata": {},
   "source": [
    "Standard Library Documentation\n",
    "fnmatch.filter(names, pattern)\n",
    "Return the subset of the list of names that match pattern. It is the same as [n for n in names if fnmatch(n, pattern)], but implemented more efficiently."
   ]
  },
  {
   "cell_type": "raw",
   "metadata": {},
   "source": [
    "import os\n",
    "import fnmatch\n",
    "\n",
    "def gen_find(filepat,top):\n",
    "    for path, dirlist, filelist in os.walk(top):\n",
    "        for name in fnmatch.filter(filelist,filepat):\n",
    "            yield os.path.join(path,name)"
   ]
  },
  {
   "cell_type": "raw",
   "metadata": {},
   "source": [
    "# a file opener\n",
    "import gzip, bz2\n",
    "           def gen_open(filenames):\n",
    "               for name in filenames:\n",
    "                   if name.endswith(\".gz\"):\n",
    "                        yield gzip.open(name)\n",
    "                   elif name.endswith(\".bz2\"):\n",
    "                        yield bz2.BZ2File(name)\n",
    "                   else:\n",
    "                        yield open(name)\n"
   ]
  },
  {
   "cell_type": "raw",
   "metadata": {},
   "source": [
    "# Grep\n",
    "\n",
    "import re\n",
    "          def gen_grep(pat, lines):\n",
    "              patc = re.compile(pat)\n",
    "              for line in lines:\n",
    "                  if patc.search(line): yield line\n",
    "                  \n",
    "\n",
    "#Examples\n",
    "pat = r\"somepattern\" logdir = \"/some/dir/\"\n",
    "filenames  = gen_find(\"access-log*\",logdir)\n",
    "logfiles = gen_open(filenames)\n",
    "loglines = gen_cat(logfiles)\n",
    "patlines = gen_grep(pat, logfiles)\n",
    "bytecolumn = (line.rsplit(None,1)[1] for line in patlines)\n",
    "bytes      = (int(x) for x in bytecolumn if x != '-')\n",
    "print \"Total\", sum(bytes)\n"
   ]
  },
  {
   "cell_type": "raw",
   "metadata": {},
   "source": [
    "Standard Library Documentation\n",
    "Match.groups(default=None)\n",
    "Return a tuple containing all the subgroups of the match, from 1 up to however many groups are in the pattern. The default argument is used for groups that did not participate in the match; it defaults to None.\n",
    "\n",
    "For example:\n",
    "\n",
    ">>>\n",
    ">>> m = re.match(r\"(\\d+)\\.(\\d+)\", \"24.1632\")\n",
    ">>> m.groups()\n",
    "('24', '1632')\n",
    "If we make the decimal place and everything after it optional, not all groups might participate in the match. These groups will default to None unless the default argument is given:\n",
    "\n",
    ">>>\n",
    ">>> m = re.match(r\"(\\d+)\\.?(\\d+)?\", \"24\")\n",
    ">>> m.groups()      # Second group defaults to None.\n",
    "('24', None)\n",
    ">>> m.groups('0')   # Now, the second group defaults to '0'.\n",
    "('24', '0')\n"
   ]
  },
  {
   "cell_type": "raw",
   "metadata": {},
   "source": [
    "#TODO  Make sure to really understand the line below logpats where there are 2 raw strings.  Is that just to break a long line?"
   ]
  },
  {
   "cell_type": "raw",
   "metadata": {},
   "source": [
    "This is a sample line:\n",
    "81.107.39.38 - - [24/Feb/2008:00:08:59 -0600] \"GET ...\" 200 7587\n",
    "\n",
    "This is what each field represents\n",
    "host referrer user [datetime] \"request\" status bytes\n",
    "\n",
    "# Use regex  \n",
    "logpats = r'(\\S+) (\\S+) (\\S+) \\[(.*?)\\] '\\\n",
    "          r'\"(\\S+) (\\S+) (\\S+)\" (\\S+) (\\S+)'\n",
    "logpat = re.compile(logpats)\n",
    "groups  = (logpat.match(line) for line in loglines)\n",
    "tuples  = (g.groups() for g in groups if g)\n",
    "\n",
    "# Then change uples to dictionary\n",
    "colnames   = ('host','referrer','user','datetime',\n",
    "                       'method','request','proto','status','bytes')\n",
    "log        = (dict(zip(colnames,t)) for t in tuples)\n",
    "\n",
    "You get :\n",
    "{ 'status'  : '200',\n",
    "              'proto'   : 'HTTP/1.1',\n",
    "              'referrer': '-',\n",
    "              'request' : '/ply/ply.html',\n",
    "              'bytes'   : '97238',\n",
    "              'datetime': '24/Feb/2008:00:08:59 -0600',\n",
    "              'host'    : '140.180.132.213',\n",
    "              'user'    : '-',\n",
    "              'method'  : 'GET'}"
   ]
  },
  {
   "cell_type": "raw",
   "metadata": {},
   "source": [
    "# Field Conversion\n",
    "\n",
    "def field_map(dictseq,name,func):\n",
    "        for d in dictseq:\n",
    "            d[name] = func(d[name])\n",
    "            yield d\n",
    "            \n",
    "\n",
    "log = field_map(log,\"status\", int)\n",
    "log = field_map(log,\"bytes\",\n",
    "                lambda s: int(s) if s !='-' else 0)"
   ]
  },
  {
   "cell_type": "raw",
   "metadata": {},
   "source": [
    "Result\n",
    "\n",
    "{ \n",
    "'status': 200,\n",
    "'proto': 'HTTP/1.1', Note conversion 'referrer': '-',\n",
    "'request': '/ply/ply.html',\n",
    "'datetime': '24/Feb/2008:00:08:59 -0600',\n",
    "'bytes': 97238,\n",
    "'host': '140.180.132.213',\n",
    "'user': '-',\n",
    "'method': 'GET'}"
   ]
  },
  {
   "cell_type": "raw",
   "metadata": {},
   "source": [
    "# The code so far\n",
    "lognames = gen_find(\"access-log*\",\"www\")\n",
    "logfiles = gen_open(lognames)\n",
    "loglines = gen_cat(logfiles)\n",
    "groups   = (logpat.match(line) for line in loglines)\n",
    "tuples   = (g.groups() for g in groups if g)\n",
    "colnames = ('host','referrer','user','datetime','method',\n",
    "              'request','proto','status','bytes')\n",
    "log      = (dict(zip(colnames,t)) for t in tuples)\n",
    "log      = field_map(log,\"bytes\",\n",
    "                     lambda s: int(s) if s != '-' else 0)\n",
    "log      = field_map(log,\"status\",int)"
   ]
  },
  {
   "cell_type": "raw",
   "metadata": {},
   "source": [
    "# Package it all up \n",
    "\n",
    "def lines_from_dir(filepat, dirname):\n",
    "    names = gen_find(filepat,dirname)\n",
    "    files = gen_open(names)\n",
    "    lines = gen_cat(files)\n",
    "    return lines\n",
    "\n",
    "def apache_log(lines):\n",
    "    groups = (logpat.match(line) for line in lines)\n",
    "    tuples = (g.groups() for g in groups if g)\n",
    "    colnames = ('host','referrer','user','datetime','method',\n",
    "                'request','proto','status','bytes')\n",
    "    log = (dict(zip(colnames,t)) for t in tuples)\n",
    "    log = field_map(log,\"bytes\", lambda s: int(s) if s != '-' else 0)\n",
    "    log = field_map(log,\"status\",int)\n",
    "    return log\n",
    "\n",
    "# Then use it like so:\n",
    "\n",
    "lines = lines_from_dir(\"access-log*\",\"www\")\n",
    "log   = apache_log(lines)\n",
    "    for r in log:\n",
    "        print r"
   ]
  },
  {
   "cell_type": "raw",
   "metadata": {},
   "source": [
    "# Now he sets this up to run queries\n",
    "\n",
    "# Find set of all requests that result in status 404\n",
    "\n",
    "stat404 = set(r['request'] for r in log if r['status'] == 404)\n",
    "\n",
    "# Find requests that transfer over a megabyte\n",
    "large = (r for r in log if r['bytes'] > 1000000)\n",
    "for r in large:\n",
    "    print r['request'], r['bytes']\n",
    "    \n",
    "# He finds the largest data transfer\n",
    "print \"%d %s\" % max((r['bytes'],r['request']) for r in log)\n",
    "\n",
    "# How to find unique hosts addresses\n",
    "hosts = set(r['host'] for r in log)\n",
    "\n",
    "# How to find the number of downloads of a file\n",
    "sum(1 for r in log if r['request'] == '/ply/ply-2.3.tar.gz')"
   ]
  },
  {
   "cell_type": "raw",
   "metadata": {},
   "source": [
    "Standard Library Documentation\n",
    "This module provides access to the BSD socket interface. It is available on all modern Unix systems, Windows, MacOS, and probably additional platforms.\n",
    "\n",
    "Note Some behavior may be platform dependent, since calls are made to the operating system socket APIs.\n",
    "The Python interface is a straightforward transliteration of the Unix system call and library interface for sockets to Python’s object-oriented style: the socket() function returns a socket object whose methods implement the various socket system calls. Parameter types are somewhat higher-level than in the C interface: as with read() and write() operations on Python files, buffer allocation on receive operations is automatic, and buffer length is implicit on send operations"
   ]
  },
  {
   "cell_type": "raw",
   "metadata": {},
   "source": [
    "# to find who is using robots.txt\n",
    "import socket\n",
    "\n",
    "addrs = set(r['host'] for r in log if 'robots.txt' in r['request'])\n",
    "    \n",
    "for addr in addrs:\n",
    "    try:\n",
    "        print socket.gethostbyaddr(addr)[0]\n",
    "    except socket.herror:\n",
    "        print addr"
   ]
  },
  {
   "cell_type": "raw",
   "metadata": {},
   "source": [
    "# Use filters to improve performace\n",
    "# the if statement added to the second line drops time of execution from 53m to 93s!\n",
    "\n",
    "lines = lines_from_dir(\"big-access-log\",\".\")\n",
    "lines = (line for line in lines if 'robots.txt' in line)\n",
    "log   = apache_log(lines)\n",
    "addrs = set(r['host'] for r in log)"
   ]
  },
  {
   "cell_type": "raw",
   "metadata": {},
   "source": [
    "From Standard Library:7.1.2 Methods of File objects \n",
    "To change the file object’s position, use f.seek(offset, from_what). The position is computed from adding offset to a reference point; the reference point is selected by the from_what argument. A from_what value of 0 measures from the beginning of the file, 1 uses the current file position, and 2 uses the end of the file as the reference point. from_what can be omitted and defaults to 0, using the beginning of the file as the reference point."
   ]
  },
  {
   "cell_type": "raw",
   "metadata": {},
   "source": [
    "# python version of tail -f\n",
    "import time\n",
    "    def follow(thefile):\n",
    "        thefile.seek(0,2)      # Go to the end of the file\n",
    "        while True:\n",
    "             line = thefile.readline()\n",
    "             if not line:\n",
    "                 time.sleep(0.1)    # Sleep briefly\n",
    "                 continue\n",
    "             yield line\n",
    "             \n",
    "then you can use this to make the log files\n",
    "logfile = open(\"access=log\")\n",
    "loglines = follow(logfile)\n",
    "for line in loglines:\n",
    "    print(line)\n"
   ]
  },
  {
   "cell_type": "raw",
   "metadata": {},
   "source": [
    "Reading on socket and Queue creates a brief divers`ion to HTTP definitive guide chapter four "
   ]
  },
  {
   "cell_type": "raw",
   "metadata": {},
   "source": [
    "# What might this do:\n",
    "\n",
    "import socket\n",
    "\n",
    "            def receive_connections(addr):\n",
    "                s = socket.socket(socket.AF_INET,socket.SOCK_STREAM)\n",
    "                s.setsockopt(socket.SOL_SOCKET,socket.SO_REUSEADDR,1)\n",
    "                s.bind(addr)\n",
    "                s.listen(5)\n",
    "                while True:\n",
    "                     client = s.accept()\n",
    "yield client\n",
    "\n",
    "USE:\n",
    "for c,a in receive_connections((\"\",9000)):\n",
    "               c.send(\"Hello World\\n\")\n",
    "               c.close()\n",
    "               \n",
    "After a lot of reading..sort of get it"
   ]
  },
  {
   "cell_type": "raw",
   "metadata": {},
   "source": [
    "Standard Library\n",
    "socket.socket(family=AF_INET, type=SOCK_STREAM, proto=0, fileno=None)\n",
    "Create a new socket using the given address family, socket type and protocol number. The address family should be AF_INET (the default), AF_INET6, AF_UNIX, AF_CAN, AF_PACKET, or AF_RDS. The socket type should be SOCK_STREAM (the default), SOCK_DGRAM, SOCK_RAW or perhaps one of the other SOCK_ constants. The protocol number is usually zero and may be omitted or in the case where the address family is AF_CAN the protocol should be one of CAN_RAW, CAN_BCM or CAN_ISOTP.\n",
    "\n",
    "If fileno is specified, the values for family, type, and proto are auto-detected from the specified file descriptor. Auto-detection can be overruled by calling the function with explicit family, type, or proto arguments. This only affects how Python represents e.g. the return value of socket.getpeername() but not the actual OS resource. Unlike socket.fromfd(), fileno will return the same socket and not a duplicate. This may help close a detached socket using socket.close()"
   ]
  },
  {
   "cell_type": "raw",
   "metadata": {},
   "source": [
    "A pair (host, port) is used for the AF_INET address family, where host is a string representing either a hostname in Internet domain notation like 'daring.cwi.nl' or an IPv4 address like '100.50.200.5', and port is an integer.\n",
    "\n",
    "For IPv4 addresses, two special forms are accepted instead of a host address: '' represents INADDR_ANY, which is used to bind to all interfaces, and the string '<broadcast>' represents INADDR_BROADCAST. This behavior is not compatible with IPv6, therefore, you may want to avoid these if you intend to support IPv6 with your Python programs."
   ]
  },
  {
   "cell_type": "raw",
   "metadata": {},
   "source": [
    "from http://man7.org/linux/man-pages/man2/socket.2.html\n",
    "\n",
    "socket() creates an endpoint for communication and returns a file\n",
    "       descriptor that refers to that endpoint.  The file descriptor\n",
    "       returned by a successful call will be the lowest-numbered file\n",
    "       descriptor not currently open for the process.\n",
    "\n",
    "       The domain argument specifies a communication domain; this selects\n",
    "       the protocol family which will be used for communication.  These\n",
    "       families are defined in <sys/socket.h>.  The currently understood\n",
    "       formats include:\n",
    "\n",
    "       Name                Purpose                          Man page\n",
    "       AF_UNIX, AF_LOCAL   Local communication              unix(7)\n",
    "       AF_INET             IPv4 Internet protocols          ip(7)\n",
    "       AF_INET6            IPv6 Internet protocols          ipv6(7)\n",
    "       AF_IPX              IPX - Novell protocols\n",
    "       AF_NETLINK          Kernel user interface device     netlink(7)\n",
    "       AF_X25              ITU-T X.25 / ISO-8208 protocol   x25(7)\n",
    "       AF_AX25             Amateur radio AX.25 protocol\n",
    "       AF_ATMPVC           Access to raw ATM PVCs\n",
    "       AF_APPLETALK        AppleTalk                        ddp(7)\n",
    "       AF_PACKET           Low level packet interface       packet(7)\n",
    "       AF_ALG              Interface to kernel crypto API\n",
    "\n",
    "       The socket has the indicated type, which specifies the communication\n",
    "       semantics.  Currently defined types are:\n",
    "\n",
    "       SOCK_STREAM     Provides sequenced, reliable, two-way, connection-\n",
    "                       based byte streams.  An out-of-band data transmission\n",
    "                       mechanism may be supported.\n",
    "\n",
    "       SOCK_DGRAM      Supports datagrams (connectionless, unreliable\n",
    "                       messages of a fixed maximum length).\n",
    "\n",
    "       SOCK_SEQPACKET  Provides a sequenced, reliable, two-way connection-\n",
    "                       based data transmission path for datagrams of fixed\n",
    "                       maximum length; a consumer is required to read an\n",
    "                       entire packet with each input system call.\n",
    "\n",
    "       SOCK_RAW        Provides raw network protocol access.\n",
    "\n",
    "       SOCK_RDM        Provides a reliable datagram layer that does not\n",
    "                       guarantee ordering.\n",
    "\n",
    "       SOCK_PACKET     Obsolete and should not be used in new programs; see\n",
    "                       packet(7).\n",
    "\n",
    "       Some socket types may not be implemented by all protocol families.\n",
    "\n",
    "       Since Linux 2.6.27, the type argument serves a second purpose: in\n",
    "       addition to specifying a socket type, it may include the bitwise OR\n",
    "       of any of the following values, to modify the behavior of socket():\n",
    "\n",
    "       SOCK_NONBLOCK   Set the O_NONBLOCK file status flag on the new open\n",
    "                       file description.  Using this flag saves extra calls\n",
    "                       to fcntl(2) to achieve the same result.\n",
    "\n",
    "       SOCK_CLOEXEC    Set the close-on-exec (FD_CLOEXEC) flag on the new\n",
    "                       file descriptor.  See the description of the\n",
    "                       O_CLOEXEC flag in open(2) for reasons why this may be\n",
    "                       useful.\n",
    "\n",
    "       The protocol specifies a particular protocol to be used with the\n",
    "       socket.  Normally only a single protocol exists to support a\n",
    "       particular socket type within a given protocol family, in which case\n",
    "       protocol can be specified as 0.  However, it is possible that many\n",
    "       protocols may exist, in which case a particular protocol must be\n",
    "       specified in this manner.  The protocol number to use is specific to\n",
    "       the “communication domain” in which communication is to take place;\n",
    "       see protocols(5).  See getprotoent(3) on how to map protocol name\n",
    "       strings to protocol numbers.\n",
    "\n",
    "       Sockets of type SOCK_STREAM are full-duplex byte streams.  They do\n",
    "       not preserve record boundaries.  A stream socket must be in a\n",
    "       connected state before any data may be sent or received on it.  A\n",
    "       connection to another socket is created with a connect(2) call.  Once\n",
    "       connected, data may be transferred using read(2) and write(2) calls\n",
    "       or some variant of the send(2) and recv(2) calls.  When a session has\n",
    "       been completed a close(2) may be performed.  Out-of-band data may\n",
    "       also be transmitted as described in send(2) and received as described\n",
    "       in recv(2).\n",
    "\n",
    "       The communications protocols which implement a SOCK_STREAM ensure\n",
    "       that data is not lost or duplicated.  If a piece of data for which\n",
    "       the peer protocol has buffer space cannot be successfully transmitted\n",
    "       within a reasonable length of time, then the connection is considered\n",
    "       to be dead.  When SO_KEEPALIVE is enabled on the socket the protocol\n",
    "       checks in a protocol-specific manner if the other end is still alive.\n",
    "       A SIGPIPE signal is raised if a process sends or receives on a broken\n",
    "       stream; this causes naive processes, which do not handle the signal,\n",
    "       to exit.  SOCK_SEQPACKET sockets employ the same system calls as\n",
    "       SOCK_STREAM sockets.  The only difference is that read(2) calls will\n",
    "       return only the amount of data requested, and any data remaining in\n",
    "       the arriving packet will be discarded.  Also all message boundaries\n",
    "       in incoming datagrams are preserved.\n"
   ]
  },
  {
   "cell_type": "raw",
   "metadata": {},
   "source": [
    "and more from the Linux Man Page Project:\n",
    "\n",
    "       getsockopt() and setsockopt() manipulate options for the socket\n",
    "       referred to by the file descriptor sockfd.  Options may exist at\n",
    "       multiple protocol levels; they are always present at the uppermost\n",
    "       socket level.\n",
    "\n",
    "       When manipulating socket options, the level at which the option\n",
    "       resides and the name of the option must be specified.  To manipulate\n",
    "       options at the sockets API level, level is specified as SOL_SOCKET.\n",
    "       To manipulate options at any other level the protocol number of the\n",
    "       appropriate protocol controlling the option is supplied.  For\n",
    "       example, to indicate that an option is to be interpreted by the TCP\n",
    "       protocol, level should be set to the protocol number of TCP; see\n",
    "       getprotoent(3).\n",
    "\n",
    "       The arguments optval and optlen are used to access option values for\n",
    "       setsockopt().  For getsockopt() they identify a buffer in which the\n",
    "       value for the requested option(s) are to be returned.  For\n",
    "       getsockopt(), optlen is a value-result argument, initially containing\n",
    "       the size of the buffer pointed to by optval, and modified on return\n",
    "       to indicate the actual size of the value returned.  If no option\n",
    "       value is to be supplied or returned, optval may be NULL.\n",
    "\n",
    "       Optname and any specified options are passed uninterpreted to the\n",
    "       appropriate protocol module for interpretation.  The include file\n",
    "       <sys/socket.h> contains definitions for socket level options,\n",
    "       described below.  Options at other protocol levels vary in format and\n",
    "       name; consult the appropriate entries in section 4 of the manual.\n",
    "\n",
    "       Most socket-level options utilize an int argument for optval.  For\n",
    "       setsockopt(), the argument should be nonzero to enable a boolean\n",
    "       option, or zero if the option is to be disabled.\n",
    "\n",
    "       For a description of the available socket options see socket(7) and\n",
    "       the appropriate protocol man pages.\n",
    "RETURN VALUE         top\n",
    "\n",
    "       On success, zero is returned for the standard options.  On error, -1\n",
    "       is returned, and errno is set appropriately.\n",
    "\n",
    "       Netfilter allows the programmer to define custom socket options with\n",
    "       associated handlers; for such options, the return value on success is\n",
    "       the value returned by the handler.\n"
   ]
  },
  {
   "cell_type": "raw",
   "metadata": {},
   "source": [
    "Socket options\n",
    "       For historical reasons, these socket options are specified with a\n",
    "       SOL_SOCKET type even though they are AF_UNIX specific.  They can be\n",
    "       set with setsockopt(2) and read with getsockopt(2) by specifying\n",
    "       SOL_SOCKET as the socket family.\n",
    "\n",
    "SO_REUSEADDR\n",
    "              Indicates that the rules used in validating addresses supplied\n",
    "              in a bind(2) call should allow reuse of local addresses.  For\n",
    "              AF_INET sockets this means that a socket may bind, except when\n",
    "              there is an active listening socket bound to the address.\n",
    "              When the listening socket is bound to INADDR_ANY with a spe‐\n",
    "              cific port then it is not possible to bind to this port for\n",
    "              any local address.  Argument is an integer boolean flag."
   ]
  },
  {
   "cell_type": "raw",
   "metadata": {},
   "source": [
    "Back to the standard library\n",
    "\n",
    "socket.accept()\n",
    "Accept a connection. The socket must be bound to an address and listening for connections. The return value is a pair (conn, address) where conn is a new socket object usable to send and receive data on the connection, and address is the address bound to the socket on the other end of the connection.\n",
    "\n",
    "The newly created socket is non-inheritable.\n",
    "\n",
    "Changed in version 3.4: The socket is now non-inheritable.\n",
    "\n",
    "Changed in version 3.5: If the system call is interrupted and the signal handler does not raise an exception, the method now retries the system call instead of raising an InterruptedError exception (see PEP 475 for the rationale).\n",
    "\n",
    "socket.bind(address)\n",
    "Bind the socket to address. The socket must not already be bound. (The format of address depends on the address family — see above.\n",
    "\n",
    "socket.listen([backlog])\n",
    "Enable a server to accept connections. If backlog is specified, it must be at least 0 (if it is lower, it is set to 0); it specifies the number of unaccepted connections that the system will allow before refusing new connections. If not specified, a default reasonable value is chosen.\n",
    "\n",
    "Changed in version 3.5: The backlog parameter is now optional\n",
    "\n",
    "socket.setsockopt(level, optname, value: int)\n",
    "socket.setsockopt(level, optname, value: buffer)\n",
    "socket.setsockopt(level, optname, None, optlen: int)\n",
    "Set the value of the given socket option (see the Unix manual page setsockopt(2)). The needed symbolic constants are defined in the socket module (SO_* etc.). The value can be an integer, None or a bytes-like object representing a buffer. In the later case it is up to the caller to ensure that the bytestring contains the proper bits (see the optional built-in module struct for a way to encode C structures as bytestrings). When value is set to None, optlen argument is required. It’s equivalent to call setsockopt C function with optval=NULL and optlen=optlen.\n",
    "\n",
    "Changed in version 3.5: Writable bytes-like object is now accepted.\n",
    "\n",
    "Changed in version 3.6: setsockopt(level, optname, None, optlen: int) form added."
   ]
  },
  {
   "cell_type": "raw",
   "metadata": {},
   "source": [
    "# another \n",
    "\n",
    "import socket\n",
    "    def receive_messages(addr,maxsize):\n",
    "        s = socket.socket(socket.AF_INET,socket.SOCK_DGRAM)\n",
    "        s.bind(addr)\n",
    "        while True:\n",
    "             msg = s.recvfrom(maxsize)\n",
    "             yield msg\n",
    "            \n",
    "# use\n",
    "for msg, addr in receive_messages((\"\",10000),1024):\n",
    "        print msg, \"from\", addr"
   ]
  },
  {
   "cell_type": "raw",
   "metadata": {},
   "source": [
    "\"\"\"\n",
    "Turn the following unix pipeline into Python code using generators\n",
    "$ for i in ../*/*py; do grep ^import $i|sed 's/import //g' ; done | sort | uniq -c | sort -nr\n",
    "   4 unittest\n",
    "   4 sys\n",
    "   3 re\n",
    "   3 csv\n",
    "   2 tweepy\n",
    "   2 random\n",
    "   2 os\n",
    "   2 json\n",
    "   2 itertools\n",
    "   1 time\n",
    "   1 datetime\n",
    "\"\"\"\n",
    "\n",
    "# consider doing this with os.path and with pathlib\n",
    "import fnmatch\n",
    "import os\n",
    "import re\n",
    "from pathlib import Path\n",
    "\n",
    "here = os.path.abspath(os.path.dirname(__file__))\n",
    "top = os.path.abspath(os.path.join(here, os.pardir))\n",
    "pattern = re.compile(r\"(^import\\s+)(\\S+$)\")\n",
    "\n",
    "# lets do this a few different ways\n",
    "def gen_files1(pat=None):\n",
    "    if pat == None:\n",
    "        pat = re.compile(r'\\S*py\\Z')\n",
    "    walk = os.walk(top, topdown=True, onerror=None, followlinks=False)\n",
    "    for dirpath, dirnames, filenames in walk:\n",
    "        for filename in filenames: \n",
    "            match = re.search(pat, filename)\n",
    "            if match:\n",
    "                yield os.path.join(dirpath, filename)\n",
    "\n",
    "\n",
    "def gen_files2(pat=None):\n",
    "    if pat == None:\n",
    "        pat = '*.py'\n",
    "    walk = os.walk(top, topdown=True, onerror=None, followlinks=False)\n",
    "    for dirpath, dirnames, filenames in walk:\n",
    "        for filename in filenames: \n",
    "            if fnmatch.fnmatch(filename, pat):\n",
    "                yield os.path.join(dirpath, filename)\n",
    "\n",
    "def gen_files3(pat=None):\n",
    "    if pat == None:\n",
    "        pat = '**/*.py'\n",
    "    top_path = Path(top)\n",
    "    for file in top_path.glob(pat):\n",
    "        yield str(file)\n",
    "\n",
    "def gen_lines(files):\n",
    "    for filename in files:\n",
    "        with open(filename, 'r') as f:\n",
    "            for line in f:\n",
    "                yield line\n",
    "\n",
    "\n",
    "def gen_grep(lines, pattern):\n",
    "    for line in lines:\n",
    "        match = re.search(pattern, line)\n",
    "        if match:\n",
    "            yield match.group(2)\n",
    "\n",
    "\n",
    "def gen_count(grepped):\n",
    "    count_dict = {}\n",
    "    for item in sorted(list(grepped), reverse=True):\n",
    "        count_dict.setdefault(item, 0)\n",
    "        count_dict[item] += 1\n",
    "    count_list = sorted([(item, count) for item, count in count_dict.items()], \n",
    "           key=lambda x: x[1], reverse=True)\n",
    "    for tuple_ in count_list:\n",
    "        yield (f'{tuple_[0]:10} {tuple_[1]:10}')\n",
    "\n",
    "\n",
    "if __name__ == \"__main__\":\n",
    "    files = gen_files1()\n",
    "    lines = gen_lines(files)\n",
    "    grepped = gen_grep(lines, pattern)\n",
    "    for item in gen_count(grepped):\n",
    "        print(item)\n",
    "\n"
   ]
  },
  {
   "cell_type": "raw",
   "metadata": {},
   "source": [
    "# better solution to learn from from community repo\n",
    "# generators-atakume.py\n",
    "\n",
    "\"\"\"\n",
    "Turn the following unix pipeline into Python code using generators\n",
    "$ for i in ../*/*py; do grep ^import $i|sed 's/import //g' ; done | sort | uniq -c | sort -nr\n",
    "   4 unittest\n",
    "   4 sys\n",
    "   3 re\n",
    "   3 csv\n",
    "   2 tweepy\n",
    "   2 random\n",
    "   2 os\n",
    "   2 json\n",
    "   2 itertools\n",
    "   1 time\n",
    "   1 datetime\n",
    "\"\"\"\n",
    "import glob\n",
    "import re\n",
    "from collections import Counter\n",
    "\n",
    "\n",
    "def gen_files(pat):\n",
    "    yield from glob.glob(pat)\n",
    "\n",
    "\n",
    "def gen_lines(files):\n",
    "    for filepath in files:\n",
    "        with open(filepath, 'r') as file:\n",
    "            yield from file.readlines()\n",
    "\n",
    "\n",
    "def gen_grep(lines, pattern):\n",
    "    regex = re.compile(pattern)\n",
    "    for line in lines:\n",
    "        if regex.match(line):\n",
    "            yield regex.sub(\"\", line).strip()\n",
    "\n",
    "\n",
    "def gen_count(lines):\n",
    "    yield from sorted(Counter(lines).items(), key=lambda pair: (pair[1], pair[0]), reverse=True)\n",
    "\n",
    "if __name__ == \"__main__\":\n",
    "    # call the generators, passing one to the other\n",
    "    files = gen_files('../*/*.py')\n",
    "    lines = gen_lines(files)\n",
    "    imports = gen_grep(lines, \"^import\")\n",
    "    counts = gen_count(imports)\n",
    "    for k, v in counts:\n",
    "        print(v, k)"
   ]
  }
 ],
 "metadata": {
  "kernelspec": {
   "display_name": "Python 3",
   "language": "python",
   "name": "python3"
  },
  "language_info": {
   "codemirror_mode": {
    "name": "ipython",
    "version": 3
   },
   "file_extension": ".py",
   "mimetype": "text/x-python",
   "name": "python",
   "nbconvert_exporter": "python",
   "pygments_lexer": "ipython3",
   "version": "3.7.0"
  }
 },
 "nbformat": 4,
 "nbformat_minor": 2
}
