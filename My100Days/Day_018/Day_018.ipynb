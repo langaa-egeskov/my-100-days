{
 "cells": [
  {
   "cell_type": "markdown",
   "metadata": {},
   "source": [
    "#### Setting up for Code Challenge 11 - Generators for Fun and Profit"
   ]
  },
  {
   "cell_type": "code",
   "execution_count": null,
   "metadata": {},
   "outputs": [],
   "source": [
    "# TODO Finish the pdf from dabeaz, read pybit article\n",
    "# https://pybit.es/generators.html\n",
    "# Wikipedia article on Unix Pipeline: https://en.wikipedia.org/wiki/Pipeline_(Unix) - ok\n",
    "# http://www.dabeaz.com/generators/ ==> http://www.dabeaz.com/generators2/Generators.pdf\n",
    "# sed https://www.gnu.org/software/sed/manual/sed.html#Overview\n",
    "# sort http://www.tutorialspoint.com/unix_commands/sort.htm"
   ]
  },
  {
   "cell_type": "code",
   "execution_count": null,
   "metadata": {},
   "outputs": [],
   "source": [
    "\"\"\"\n",
    "Turn the following unix pipeline into Python code using generators\n",
    "$ for i in ../*/*py; do grep ^import $i|sed 's/import //g' ; done | sort | uniq -c | sort -nr\n",
    "   4 unittest\n",
    "   4 sys\n",
    "   3 re\n",
    "   3 csv\n",
    "   2 tweepy\n",
    "   2 random\n",
    "   2 os\n",
    "   2 json\n",
    "   2 itertools\n",
    "   1 time\n",
    "   1 datetime\n",
    "\"\"\"\n",
    "\n",
    "def gen_files(pat):\n",
    "    pass\n",
    "\n",
    "def gen_lines(files):\n",
    "    pass\n",
    "\n",
    "def gen_grep(lines, pattern):\n",
    "    pass\n",
    "\n",
    "def gen_count(lines):\n",
    "    pass\n",
    "\n",
    "\n",
    "if __name__ == \"__main__\":\n",
    "    # call the generators, passing one to the other\n",
    "    files = gen_files('../*/*.py')\n",
    "    lines = gen_lines(files)\n",
    "    # etc\n"
   ]
  },
  {
   "cell_type": "code",
   "execution_count": 11,
   "metadata": {},
   "outputs": [],
   "source": [
    "line = '81.107.39.38 -  ... \"GET /ply/ply.html HTTP/1.1\" 200 97238'\n",
    "bytestr = line.rsplit(None,1)"
   ]
  },
  {
   "cell_type": "code",
   "execution_count": 12,
   "metadata": {},
   "outputs": [
    {
     "data": {
      "text/plain": [
       "['81.107.39.38 -  ... \"GET /ply/ply.html HTTP/1.1\" 200', '97238']"
      ]
     },
     "execution_count": 12,
     "metadata": {},
     "output_type": "execute_result"
    }
   ],
   "source": [
    "bytestr"
   ]
  },
  {
   "cell_type": "code",
   "execution_count": 13,
   "metadata": {},
   "outputs": [
    {
     "data": {
      "text/plain": [
       "['81.107.39.38 -  ... \"GET /ply/ply.html HTTP/1.1\"', '200', '97238']"
      ]
     },
     "execution_count": 13,
     "metadata": {},
     "output_type": "execute_result"
    }
   ],
   "source": [
    "bytestr = line.rsplit(None,2)\n",
    "bytestr "
   ]
  },
  {
   "cell_type": "raw",
   "metadata": {},
   "source": [
    "Standard Library Documentation\n",
    "str.rsplit(sep=None, maxsplit=-1)\n",
    "Return a list of the words in the string, using sep as the delimiter string. If maxsplit is given, at most maxsplit splits are done, the rightmost ones. If sep is not specified or None, any whitespace string is a separator. Except for splitting from the right, rsplit() behaves like split() which is described in detail below.\n",
    "\n",
    "Looks like it starts from the right"
   ]
  },
  {
   "cell_type": "raw",
   "metadata": {},
   "source": [
    "Standard Library Documentation\n",
    "os.walk(top, topdown=True, onerror=None, followlinks=False)\n",
    "Generate the file names in a directory tree by walking the tree either top-down or bottom-up. For each directory in the tree rooted at directory top (including top itself), it yields a 3-tuple (dirpath, dirnames, filenames)."
   ]
  },
  {
   "cell_type": "raw",
   "metadata": {},
   "source": [
    "import os\n",
    "\n",
    "for path, dirlist, filelist in os.walk(topdir):\n",
    "    # path     : Current Directory\n",
    "    # dirlist  : List of subdirectories\n",
    "    # filelist : List of files"
   ]
  },
  {
   "cell_type": "raw",
   "metadata": {},
   "source": [
    "Standard Library Documentation\n",
    "fnmatch.fnmatch(filename, pattern)\n",
    "Test whether the filename string matches the pattern string, returning True or False. Both parameters are case-normalized using os.path.normcase(). fnmatchcase() can be used to perform a case-sensitive comparison, regardless of whether that’s standard for the operating system.\n",
    "\n",
    "This example will print all file names in the current directory with the extension .txt:\n",
    "\n",
    "import fnmatch\n",
    "import os\n",
    "\n",
    "for file in os.listdir('.'):\n",
    "    if fnmatch.fnmatch(file, '*.txt'):\n",
    "        print(file)"
   ]
  },
  {
   "cell_type": "raw",
   "metadata": {},
   "source": [
    "Standard Library Documentation\n",
    "fnmatch.filter(names, pattern)\n",
    "Return the subset of the list of names that match pattern. It is the same as [n for n in names if fnmatch(n, pattern)], but implemented more efficiently."
   ]
  },
  {
   "cell_type": "raw",
   "metadata": {},
   "source": [
    "import os\n",
    "import fnmatch\n",
    "\n",
    "def gen_find(filepat,top):\n",
    "    for path, dirlist, filelist in os.walk(top):\n",
    "        for name in fnmatch.filter(filelist,filepat):\n",
    "            yield os.path.join(path,name)"
   ]
  }
 ],
 "metadata": {
  "kernelspec": {
   "display_name": "Python 3",
   "language": "python",
   "name": "python3"
  },
  "language_info": {
   "codemirror_mode": {
    "name": "ipython",
    "version": 3
   },
   "file_extension": ".py",
   "mimetype": "text/x-python",
   "name": "python",
   "nbconvert_exporter": "python",
   "pygments_lexer": "ipython3",
   "version": "3.7.0"
  }
 },
 "nbformat": 4,
 "nbformat_minor": 2
}
