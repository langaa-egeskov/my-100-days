{
 "cells": [
  {
   "cell_type": "markdown",
   "metadata": {},
   "source": [
    "#### Setting up for Code Challenge 11 - Generators for Fun and Profit"
   ]
  },
  {
   "cell_type": "code",
   "execution_count": null,
   "metadata": {},
   "outputs": [],
   "source": [
    "# TODO Finish the pdf from dabeaz, read pybit article\n",
    "# https://pybit.es/generators.html\n",
    "# Wikipedia article on Unix Pipeline: https://en.wikipedia.org/wiki/Pipeline_(Unix) - ok\n",
    "# http://www.dabeaz.com/generators/ ==> http://www.dabeaz.com/generators2/Generators.pdf\n",
    "# sed https://www.gnu.org/software/sed/manual/sed.html#Overview\n",
    "# sort http://www.tutorialspoint.com/unix_commands/sort.htm"
   ]
  },
  {
   "cell_type": "code",
   "execution_count": null,
   "metadata": {},
   "outputs": [],
   "source": [
    "\"\"\"\n",
    "Turn the following unix pipeline into Python code using generators\n",
    "$ for i in ../*/*py; do grep ^import $i|sed 's/import //g' ; done | sort | uniq -c | sort -nr\n",
    "   4 unittest\n",
    "   4 sys\n",
    "   3 re\n",
    "   3 csv\n",
    "   2 tweepy\n",
    "   2 random\n",
    "   2 os\n",
    "   2 json\n",
    "   2 itertools\n",
    "   1 time\n",
    "   1 datetime\n",
    "\"\"\"\n",
    "\n",
    "def gen_files(pat):\n",
    "    pass\n",
    "\n",
    "def gen_lines(files):\n",
    "    pass\n",
    "\n",
    "def gen_grep(lines, pattern):\n",
    "    pass\n",
    "\n",
    "def gen_count(lines):\n",
    "    pass\n",
    "\n",
    "\n",
    "if __name__ == \"__main__\":\n",
    "    # call the generators, passing one to the other\n",
    "    files = gen_files('../*/*.py')\n",
    "    lines = gen_lines(files)\n",
    "    # etc\n"
   ]
  },
  {
   "cell_type": "raw",
   "metadata": {},
   "source": [
    "### http://www.dabeaz.com/generators2/Generators.pdf \n",
    "This is an awesome reference that I am taking notes on: Copyright (C) 2008, http://www.dabeaz.com\n",
    "He offers in person classes in Chicago with a tiny class size of 6 people for < $3000 seems pretty awesome"
   ]
  },
  {
   "cell_type": "code",
   "execution_count": 11,
   "metadata": {},
   "outputs": [],
   "source": [
    "line = '81.107.39.38 -  ... \"GET /ply/ply.html HTTP/1.1\" 200 97238'\n",
    "bytestr = line.rsplit(None,1)"
   ]
  },
  {
   "cell_type": "code",
   "execution_count": 12,
   "metadata": {},
   "outputs": [
    {
     "data": {
      "text/plain": [
       "['81.107.39.38 -  ... \"GET /ply/ply.html HTTP/1.1\" 200', '97238']"
      ]
     },
     "execution_count": 12,
     "metadata": {},
     "output_type": "execute_result"
    }
   ],
   "source": [
    "bytestr"
   ]
  },
  {
   "cell_type": "code",
   "execution_count": 13,
   "metadata": {},
   "outputs": [
    {
     "data": {
      "text/plain": [
       "['81.107.39.38 -  ... \"GET /ply/ply.html HTTP/1.1\"', '200', '97238']"
      ]
     },
     "execution_count": 13,
     "metadata": {},
     "output_type": "execute_result"
    }
   ],
   "source": [
    "bytestr = line.rsplit(None,2)\n",
    "bytestr "
   ]
  },
  {
   "cell_type": "raw",
   "metadata": {},
   "source": [
    "Standard Library Documentation\n",
    "str.rsplit(sep=None, maxsplit=-1)\n",
    "Return a list of the words in the string, using sep as the delimiter string. If maxsplit is given, at most maxsplit splits are done, the rightmost ones. If sep is not specified or None, any whitespace string is a separator. Except for splitting from the right, rsplit() behaves like split() which is described in detail below.\n",
    "\n",
    "Looks like it starts from the right"
   ]
  },
  {
   "cell_type": "raw",
   "metadata": {},
   "source": [
    "Standard Library Documentation\n",
    "os.walk(top, topdown=True, onerror=None, followlinks=False)\n",
    "Generate the file names in a directory tree by walking the tree either top-down or bottom-up. For each directory in the tree rooted at directory top (including top itself), it yields a 3-tuple (dirpath, dirnames, filenames)."
   ]
  },
  {
   "cell_type": "raw",
   "metadata": {},
   "source": [
    "import os\n",
    "\n",
    "for path, dirlist, filelist in os.walk(topdir):\n",
    "    # path     : Current Directory\n",
    "    # dirlist  : List of subdirectories\n",
    "    # filelist : List of files"
   ]
  },
  {
   "cell_type": "raw",
   "metadata": {},
   "source": [
    "Standard Library Documentation\n",
    "fnmatch.fnmatch(filename, pattern)\n",
    "Test whether the filename string matches the pattern string, returning True or False. Both parameters are case-normalized using os.path.normcase(). fnmatchcase() can be used to perform a case-sensitive comparison, regardless of whether that’s standard for the operating system.\n",
    "\n",
    "This example will print all file names in the current directory with the extension .txt:\n",
    "\n",
    "import fnmatch\n",
    "import os\n",
    "\n",
    "for file in os.listdir('.'):\n",
    "    if fnmatch.fnmatch(file, '*.txt'):\n",
    "        print(file)"
   ]
  },
  {
   "cell_type": "raw",
   "metadata": {},
   "source": [
    "Standard Library Documentation\n",
    "fnmatch.filter(names, pattern)\n",
    "Return the subset of the list of names that match pattern. It is the same as [n for n in names if fnmatch(n, pattern)], but implemented more efficiently."
   ]
  },
  {
   "cell_type": "raw",
   "metadata": {},
   "source": [
    "import os\n",
    "import fnmatch\n",
    "\n",
    "def gen_find(filepat,top):\n",
    "    for path, dirlist, filelist in os.walk(top):\n",
    "        for name in fnmatch.filter(filelist,filepat):\n",
    "            yield os.path.join(path,name)"
   ]
  },
  {
   "cell_type": "raw",
   "metadata": {},
   "source": [
    "# a file opener\n",
    "import gzip, bz2\n",
    "           def gen_open(filenames):\n",
    "               for name in filenames:\n",
    "                   if name.endswith(\".gz\"):\n",
    "                        yield gzip.open(name)\n",
    "                   elif name.endswith(\".bz2\"):\n",
    "                        yield bz2.BZ2File(name)\n",
    "                   else:\n",
    "                        yield open(name)\n"
   ]
  },
  {
   "cell_type": "raw",
   "metadata": {},
   "source": [
    "# Grep\n",
    "\n",
    "import re\n",
    "          def gen_grep(pat, lines):\n",
    "              patc = re.compile(pat)\n",
    "              for line in lines:\n",
    "                  if patc.search(line): yield line\n",
    "                  \n",
    "\n",
    "#Examples\n",
    "pat = r\"somepattern\" logdir = \"/some/dir/\"\n",
    "filenames  = gen_find(\"access-log*\",logdir)\n",
    "logfiles = gen_open(filenames)\n",
    "loglines = gen_cat(logfiles)\n",
    "patlines = gen_grep(pat, logfiles)\n",
    "bytecolumn = (line.rsplit(None,1)[1] for line in patlines)\n",
    "bytes      = (int(x) for x in bytecolumn if x != '-')\n",
    "print \"Total\", sum(bytes)\n"
   ]
  },
  {
   "cell_type": "raw",
   "metadata": {},
   "source": [
    "Standard Library Documentation\n",
    "Match.groups(default=None)\n",
    "Return a tuple containing all the subgroups of the match, from 1 up to however many groups are in the pattern. The default argument is used for groups that did not participate in the match; it defaults to None.\n",
    "\n",
    "For example:\n",
    "\n",
    ">>>\n",
    ">>> m = re.match(r\"(\\d+)\\.(\\d+)\", \"24.1632\")\n",
    ">>> m.groups()\n",
    "('24', '1632')\n",
    "If we make the decimal place and everything after it optional, not all groups might participate in the match. These groups will default to None unless the default argument is given:\n",
    "\n",
    ">>>\n",
    ">>> m = re.match(r\"(\\d+)\\.?(\\d+)?\", \"24\")\n",
    ">>> m.groups()      # Second group defaults to None.\n",
    "('24', None)\n",
    ">>> m.groups('0')   # Now, the second group defaults to '0'.\n",
    "('24', '0')\n"
   ]
  },
  {
   "cell_type": "raw",
   "metadata": {},
   "source": [
    "#TODO  Make sure to really understand the line below logpats where there are 2 raw strings.  Is that just to break a long line?"
   ]
  },
  {
   "cell_type": "raw",
   "metadata": {},
   "source": [
    "This is a sample line:\n",
    "81.107.39.38 - - [24/Feb/2008:00:08:59 -0600] \"GET ...\" 200 7587\n",
    "\n",
    "This is what each field represents\n",
    "host referrer user [datetime] \"request\" status bytes\n",
    "\n",
    "# Use regex  \n",
    "logpats = r'(\\S+) (\\S+) (\\S+) \\[(.*?)\\] '\\\n",
    "          r'\"(\\S+) (\\S+) (\\S+)\" (\\S+) (\\S+)'\n",
    "logpat = re.compile(logpats)\n",
    "groups  = (logpat.match(line) for line in loglines)\n",
    "tuples  = (g.groups() for g in groups if g)\n",
    "\n",
    "# Then change uples to dictionary\n",
    "colnames   = ('host','referrer','user','datetime',\n",
    "                       'method','request','proto','status','bytes')\n",
    "log        = (dict(zip(colnames,t)) for t in tuples)\n",
    "\n",
    "You get :\n",
    "{ 'status'  : '200',\n",
    "              'proto'   : 'HTTP/1.1',\n",
    "              'referrer': '-',\n",
    "              'request' : '/ply/ply.html',\n",
    "              'bytes'   : '97238',\n",
    "              'datetime': '24/Feb/2008:00:08:59 -0600',\n",
    "              'host'    : '140.180.132.213',\n",
    "              'user'    : '-',\n",
    "              'method'  : 'GET'}"
   ]
  },
  {
   "cell_type": "raw",
   "metadata": {},
   "source": [
    "# Field Conversion\n",
    "\n",
    "def field_map(dictseq,name,func):\n",
    "        for d in dictseq:\n",
    "            d[name] = func(d[name])\n",
    "            yield d\n",
    "            \n",
    "\n",
    "log = field_map(log,\"status\", int)\n",
    "log = field_map(log,\"bytes\",\n",
    "                lambda s: int(s) if s !='-' else 0)"
   ]
  },
  {
   "cell_type": "raw",
   "metadata": {},
   "source": [
    "Result\n",
    "\n",
    "{ \n",
    "'status': 200,\n",
    "'proto': 'HTTP/1.1', Note conversion 'referrer': '-',\n",
    "'request': '/ply/ply.html',\n",
    "'datetime': '24/Feb/2008:00:08:59 -0600',\n",
    "'bytes': 97238,\n",
    "'host': '140.180.132.213',\n",
    "'user': '-',\n",
    "'method': 'GET'}"
   ]
  },
  {
   "cell_type": "raw",
   "metadata": {},
   "source": [
    "# The code so far\n",
    "lognames = gen_find(\"access-log*\",\"www\")\n",
    "logfiles = gen_open(lognames)\n",
    "loglines = gen_cat(logfiles)\n",
    "groups   = (logpat.match(line) for line in loglines)\n",
    "tuples   = (g.groups() for g in groups if g)\n",
    "colnames = ('host','referrer','user','datetime','method',\n",
    "              'request','proto','status','bytes')\n",
    "log      = (dict(zip(colnames,t)) for t in tuples)\n",
    "log      = field_map(log,\"bytes\",\n",
    "                     lambda s: int(s) if s != '-' else 0)\n",
    "log      = field_map(log,\"status\",int)"
   ]
  },
  {
   "cell_type": "raw",
   "metadata": {},
   "source": [
    "# Package it all up \n",
    "\n",
    "def lines_from_dir(filepat, dirname):\n",
    "    names = gen_find(filepat,dirname)\n",
    "    files = gen_open(names)\n",
    "    lines = gen_cat(files)\n",
    "    return lines\n",
    "\n",
    "def apache_log(lines):\n",
    "    groups = (logpat.match(line) for line in lines)\n",
    "    tuples = (g.groups() for g in groups if g)\n",
    "    colnames = ('host','referrer','user','datetime','method',\n",
    "                'request','proto','status','bytes')\n",
    "    log = (dict(zip(colnames,t)) for t in tuples)\n",
    "    log = field_map(log,\"bytes\", lambda s: int(s) if s != '-' else 0)\n",
    "    log = field_map(log,\"status\",int)\n",
    "    return log\n",
    "\n",
    "# Then use it like so:\n",
    "\n",
    "lines = lines_from_dir(\"access-log*\",\"www\")\n",
    "log   = apache_log(lines)\n",
    "    for r in log:\n",
    "        print r"
   ]
  },
  {
   "cell_type": "raw",
   "metadata": {},
   "source": [
    "# Now he sets this up to run queries\n",
    "\n",
    "# Find set of all requests that result in status 404\n",
    "\n",
    "stat404 = set(r['request'] for r in log if r['status'] == 404)\n",
    "\n",
    "# Find requests that transfer over a megabyte\n",
    "large = (r for r in log if r['bytes'] > 1000000)\n",
    "for r in large:\n",
    "    print r['request'], r['bytes']\n",
    "    \n",
    "# He finds the largest data transfer\n",
    "print \"%d %s\" % max((r['bytes'],r['request']) for r in log)\n",
    "\n",
    "# How to find unique hosts addresses\n",
    "hosts = set(r['host'] for r in log)\n",
    "\n",
    "# How to find the number of downloads of a file\n",
    "sum(1 for r in log if r['request'] == '/ply/ply-2.3.tar.gz')"
   ]
  },
  {
   "cell_type": "raw",
   "metadata": {},
   "source": [
    "Standard Library Documentation\n",
    "This module provides access to the BSD socket interface. It is available on all modern Unix systems, Windows, MacOS, and probably additional platforms.\n",
    "\n",
    "Note Some behavior may be platform dependent, since calls are made to the operating system socket APIs.\n",
    "The Python interface is a straightforward transliteration of the Unix system call and library interface for sockets to Python’s object-oriented style: the socket() function returns a socket object whose methods implement the various socket system calls. Parameter types are somewhat higher-level than in the C interface: as with read() and write() operations on Python files, buffer allocation on receive operations is automatic, and buffer length is implicit on send operations"
   ]
  },
  {
   "cell_type": "raw",
   "metadata": {},
   "source": [
    "# to find who is using robots.txt\n",
    "import socket\n",
    "\n",
    "addrs = set(r['host'] for r in log if 'robots.txt' in r['request'])\n",
    "    \n",
    "for addr in addrs:\n",
    "    try:\n",
    "        print socket.gethostbyaddr(addr)[0]\n",
    "    except socket.herror:\n",
    "        print addr"
   ]
  },
  {
   "cell_type": "raw",
   "metadata": {},
   "source": [
    "# Use filters to improve performace\n",
    "# the if statement added to the second line drops time of execution from 53m to 93s!\n",
    "\n",
    "lines = lines_from_dir(\"big-access-log\",\".\")\n",
    "lines = (line for line in lines if 'robots.txt' in line)\n",
    "log   = apache_log(lines)\n",
    "addrs = set(r['host'] for r in log)"
   ]
  }
 ],
 "metadata": {
  "kernelspec": {
   "display_name": "Python 3",
   "language": "python",
   "name": "python3"
  },
  "language_info": {
   "codemirror_mode": {
    "name": "ipython",
    "version": 3
   },
   "file_extension": ".py",
   "mimetype": "text/x-python",
   "name": "python",
   "nbconvert_exporter": "python",
   "pygments_lexer": "ipython3",
   "version": "3.7.0"
  }
 },
 "nbformat": 4,
 "nbformat_minor": 2
}
