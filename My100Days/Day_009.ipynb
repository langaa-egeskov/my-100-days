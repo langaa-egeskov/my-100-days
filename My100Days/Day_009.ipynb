{
 "cells": [
  {
   "cell_type": "code",
   "execution_count": 19,
   "metadata": {},
   "outputs": [],
   "source": [
    "import requests\n",
    "\n",
    "url = 'https://raw.githubusercontent.com/talkpython/100daysofcode-with-python-course/master/days/07-09-data-structures/code/data.py'\n",
    "\n",
    "r = requests.get(url)\n",
    "with open('py_bite_data.py', 'wb') as f:\n",
    "    f.write(r.content)"
   ]
  },
  {
   "cell_type": "code",
   "execution_count": 22,
   "metadata": {},
   "outputs": [],
   "source": [
    "from py_bite_data import us_state_abbrev, states_list"
   ]
  },
  {
   "cell_type": "code",
   "execution_count": 23,
   "metadata": {},
   "outputs": [
    {
     "data": {
      "text/plain": [
       "{'Alabama': 'AL',\n",
       " 'Alaska': 'AK',\n",
       " 'Arizona': 'AZ',\n",
       " 'Arkansas': 'AR',\n",
       " 'California': 'CA',\n",
       " 'Colorado': 'CO',\n",
       " 'Connecticut': 'CT',\n",
       " 'Delaware': 'DE',\n",
       " 'Florida': 'FL',\n",
       " 'Georgia': 'GA',\n",
       " 'Hawaii': 'HI',\n",
       " 'Idaho': 'ID',\n",
       " 'Illinois': 'IL',\n",
       " 'Indiana': 'IN',\n",
       " 'Iowa': 'IA',\n",
       " 'Kansas': 'KS',\n",
       " 'Kentucky': 'KY',\n",
       " 'Louisiana': 'LA',\n",
       " 'Maine': 'ME',\n",
       " 'Maryland': 'MD',\n",
       " 'Massachusetts': 'MA',\n",
       " 'Michigan': 'MI',\n",
       " 'Minnesota': 'MN',\n",
       " 'Mississippi': 'MS',\n",
       " 'Missouri': 'MO',\n",
       " 'Montana': 'MT',\n",
       " 'Nebraska': 'NE',\n",
       " 'Nevada': 'NV',\n",
       " 'New Hampshire': 'NH',\n",
       " 'New Jersey': 'NJ',\n",
       " 'New Mexico': 'NM',\n",
       " 'New York': 'NY',\n",
       " 'North Carolina': 'NC',\n",
       " 'North Dakota': 'ND',\n",
       " 'Ohio': 'OH',\n",
       " 'Oklahoma': 'OK',\n",
       " 'Oregon': 'OR',\n",
       " 'Pennsylvania': 'PA',\n",
       " 'Rhode Island': 'RI',\n",
       " 'South Carolina': 'SC',\n",
       " 'South Dakota': 'SD',\n",
       " 'Tennessee': 'TN',\n",
       " 'Texas': 'TX',\n",
       " 'Utah': 'UT',\n",
       " 'Vermont': 'VT',\n",
       " 'Virginia': 'VA',\n",
       " 'Washington': 'WA',\n",
       " 'West Virginia': 'WV',\n",
       " 'Wisconsin': 'WI',\n",
       " 'Wyoming': 'WY'}"
      ]
     },
     "execution_count": 23,
     "metadata": {},
     "output_type": "execute_result"
    }
   ],
   "source": [
    "us_state_abbrev"
   ]
  },
  {
   "cell_type": "code",
   "execution_count": 24,
   "metadata": {},
   "outputs": [
    {
     "data": {
      "text/plain": [
       "['Oklahoma',\n",
       " 'Kansas',\n",
       " 'North Carolina',\n",
       " 'Georgia',\n",
       " 'Oregon',\n",
       " 'Mississippi',\n",
       " 'Minnesota',\n",
       " 'Colorado',\n",
       " 'Alabama',\n",
       " 'Massachusetts',\n",
       " 'Arizona',\n",
       " 'Connecticut',\n",
       " 'Montana',\n",
       " 'West Virginia',\n",
       " 'Nebraska',\n",
       " 'New York',\n",
       " 'Nevada',\n",
       " 'Idaho',\n",
       " 'New Jersey',\n",
       " 'Missouri',\n",
       " 'South Carolina',\n",
       " 'Pennsylvania',\n",
       " 'Rhode Island',\n",
       " 'New Mexico',\n",
       " 'Alaska',\n",
       " 'New Hampshire',\n",
       " 'Tennessee',\n",
       " 'Washington',\n",
       " 'Indiana',\n",
       " 'Hawaii',\n",
       " 'Kentucky',\n",
       " 'Virginia',\n",
       " 'Ohio',\n",
       " 'Wisconsin',\n",
       " 'Maryland',\n",
       " 'Florida',\n",
       " 'Utah',\n",
       " 'Maine',\n",
       " 'California',\n",
       " 'Vermont',\n",
       " 'Arkansas',\n",
       " 'Wyoming',\n",
       " 'Louisiana',\n",
       " 'North Dakota',\n",
       " 'South Dakota',\n",
       " 'Texas',\n",
       " 'Illinois',\n",
       " 'Iowa',\n",
       " 'Michigan',\n",
       " 'Delaware']"
      ]
     },
     "execution_count": 24,
     "metadata": {},
     "output_type": "execute_result"
    }
   ],
   "source": [
    "states_list"
   ]
  },
  {
   "cell_type": "markdown",
   "metadata": {},
   "source": [
    "But actually the lists are different from PyBite 89 :("
   ]
  },
  {
   "cell_type": "code",
   "execution_count": 57,
   "metadata": {},
   "outputs": [],
   "source": [
    "us_state_abbrev = {'Alabama': 'AL', 'Alaska': 'AK', 'Arizona': 'AZ',\n",
    "                   'Arkansas': 'AR', 'California': 'CA', 'Colorado': 'CO',\n",
    "                   'Connecticut': 'CT', 'Delaware': 'DE', 'Florida': 'FL',\n",
    "                   'Georgia': 'GA', 'Hawaii': 'HI', 'Idaho': 'ID',\n",
    "                   'Illinois': 'IL', 'Indiana': 'IN', 'Iowa': 'IA',\n",
    "                   'Kansas': 'KS', 'Kentucky': 'KY', 'Louisiana': 'LA',\n",
    "                   'Maine': 'ME', 'Maryland': 'MD', 'Massachusetts': 'MA',\n",
    "                   'Michigan': 'MI', 'Minnesota': 'MN', 'Mississippi': 'MS',\n",
    "                   'Missouri': 'MO', 'Montana': 'MT', 'Nebraska': 'NE',\n",
    "                   'Nevada': 'NV', 'New Hampshire': 'NH', 'New Jersey': 'NJ',\n",
    "                   'New Mexico': 'NM', 'New York': 'NY',\n",
    "                   'North Carolina': 'NC', 'North Dakota': 'ND',\n",
    "                   'Ohio': 'OH', 'Oklahoma': 'OK', 'Oregon': 'OR',\n",
    "                   'Pennsylvania': 'PA', 'Rhode Island': 'RI',\n",
    "                   'South Carolina': 'SC', 'South Dakota': 'SD',\n",
    "                   'Tennessee': 'TN', 'Texas': 'TX', 'Utah': 'UT',\n",
    "                   'Vermont': 'VT', 'Virginia': 'VA', 'Washington': 'WA',\n",
    "                   'West Virginia': 'WV', 'Wisconsin': 'WI', 'Wyoming': 'WY'}\n",
    "\n",
    "states = ['Oklahoma', 'Kansas', 'North Carolina', 'Georgia', 'Oregon',\n",
    "          'Mississippi', 'Minnesota', 'Colorado', 'Alabama',\n",
    "          'Massachusetts', 'Arizona', 'Connecticut', 'Montana',\n",
    "          'West Virginia', 'Nebraska', 'New York', 'Nevada', 'Idaho',\n",
    "          'New Jersey', 'Missouri', 'South Carolina', 'Pennsylvania',\n",
    "          'Rhode Island', 'New Mexico', 'Alaska', 'New Hampshire',\n",
    "          'Tennessee', 'Washington', 'Indiana', 'Hawaii', 'Kentucky',\n",
    "          'Virginia', 'Ohio', 'Wisconsin', 'Maryland', 'Florida',\n",
    "          'Utah', 'Maine', 'California', 'Vermont', 'Arkansas', 'Wyoming',\n",
    "          'Louisiana', 'North Dakota', 'South Dakota', 'Texas',\n",
    "          'Illinois', 'Iowa', 'Michigan', 'Delaware']"
   ]
  },
  {
   "cell_type": "code",
   "execution_count": 67,
   "metadata": {},
   "outputs": [],
   "source": [
    "NOT_FOUND = 'N/A'\n",
    "\n",
    "def get_every_nth_state(states=states, n=10):\n",
    "    \"\"\"Return a list with every nth item (default argument n=10, so every\n",
    "       10th item) of the states list above (remember: lists keep order)\"\"\"\n",
    "    return [state for i, state in enumerate(states) if (i+1)%n == 0]\n",
    "\n",
    "def get_state_abbrev(state_name, us_state_abbrev=us_state_abbrev):\n",
    "    \"\"\"Look up a state abbreviation by querying the us_state_abbrev\n",
    "       dict by full state name, for instance 'Alabama' returns 'AL',\n",
    "       'Illinois' returns 'IL'.\n",
    "       If the state is not in the dict, return 'N/A' which we stored\n",
    "       in the NOT_FOUND constant (takeaway: dicts are great for lookups)\"\"\"\n",
    "    return us_state_abbrev.get(state_name, NOT_FOUND)\n",
    "\n",
    "\n",
    "def get_longest_state(data):\n",
    "    \"\"\"Receives data, which can be the us_state_abbrev dict or the states\n",
    "       list (see above). It returns the longest state measured by the length\n",
    "       of the string\"\"\"\n",
    "    return sorted(data, key = lambda k: len(k))[-1]\n",
    "\n",
    "\n",
    "def my_combine_state_names_and_abbreviations(us_state_abbrev=us_state_abbrev,\n",
    "                                          states=states):\n",
    "    \"\"\"Get the first 10 state abbreviations ('AL', 'AK', 'AZ', ...) from\n",
    "       the us_state_abbrev dict, and the last 10 states from the states\n",
    "       list (see above) and combine them into a new list without losing\n",
    "       alphabetical order\"\"\"\n",
    "    ord_states = sorted(states)\n",
    "    return [us_state_abbrev[state] for state in ord_states[:10]] + [state for state in ord_states[-10:]]\n",
    "\n",
    "def combine_state_names_and_abbreviations(us_state_abbrev=us_state_abbrev,\n",
    "                                          states=states):\n",
    "    \"\"\"Get the first 10 state abbreviations ('AL', 'AK', 'AZ', ...) from\n",
    "       the us_state_abbrev dict, and the last 10 states from the states\n",
    "       list (see above) and combine them into a new list without losing\n",
    "       alphabetical order\"\"\"\n",
    "    ord_states = sorted(states)\n",
    "    return sorted([us_state_abbrev[state] for state in ord_states[:10]]) + [state for state in ord_states[-10:]]"
   ]
  },
  {
   "cell_type": "code",
   "execution_count": 68,
   "metadata": {},
   "outputs": [
    {
     "data": {
      "text/plain": [
       "['Massachusetts', 'Missouri', 'Hawaii', 'Vermont', 'Delaware']"
      ]
     },
     "execution_count": 68,
     "metadata": {},
     "output_type": "execute_result"
    }
   ],
   "source": [
    "get_every_nth_state()"
   ]
  },
  {
   "cell_type": "code",
   "execution_count": 69,
   "metadata": {},
   "outputs": [
    {
     "data": {
      "text/plain": [
       "'AL'"
      ]
     },
     "execution_count": 69,
     "metadata": {},
     "output_type": "execute_result"
    }
   ],
   "source": [
    "get_state_abbrev('Alabama')"
   ]
  },
  {
   "cell_type": "code",
   "execution_count": 70,
   "metadata": {},
   "outputs": [
    {
     "data": {
      "text/plain": [
       "'South Carolina'"
      ]
     },
     "execution_count": 70,
     "metadata": {},
     "output_type": "execute_result"
    }
   ],
   "source": [
    "get_longest_state(states_list)"
   ]
  },
  {
   "cell_type": "code",
   "execution_count": 71,
   "metadata": {},
   "outputs": [
    {
     "data": {
      "text/plain": [
       "'South Carolina'"
      ]
     },
     "execution_count": 71,
     "metadata": {},
     "output_type": "execute_result"
    }
   ],
   "source": [
    "get_longest_state(us_state_abbrev)"
   ]
  },
  {
   "cell_type": "code",
   "execution_count": 72,
   "metadata": {},
   "outputs": [
    {
     "data": {
      "text/plain": [
       "['AK',\n",
       " 'AL',\n",
       " 'AR',\n",
       " 'AZ',\n",
       " 'CA',\n",
       " 'CO',\n",
       " 'CT',\n",
       " 'DE',\n",
       " 'FL',\n",
       " 'GA',\n",
       " 'South Dakota',\n",
       " 'Tennessee',\n",
       " 'Texas',\n",
       " 'Utah',\n",
       " 'Vermont',\n",
       " 'Virginia',\n",
       " 'Washington',\n",
       " 'West Virginia',\n",
       " 'Wisconsin',\n",
       " 'Wyoming']"
      ]
     },
     "execution_count": 72,
     "metadata": {},
     "output_type": "execute_result"
    }
   ],
   "source": [
    "combine_state_names_and_abbreviations()"
   ]
  },
  {
   "cell_type": "code",
   "execution_count": 73,
   "metadata": {},
   "outputs": [],
   "source": [
    "import pytest\n",
    "import ipytest\n",
    "import ipytest.magics\n",
    "\n",
    "ipytest.config.rewrite_asserts = True\n",
    "__file__ = 'Day_009.ipynb'"
   ]
  },
  {
   "cell_type": "code",
   "execution_count": 74,
   "metadata": {},
   "outputs": [
    {
     "name": "stdout",
     "output_type": "stream",
     "text": [
      "============================= test session starts ==============================\n",
      "platform darwin -- Python 3.7.0, pytest-3.8.2, py-1.7.0, pluggy-0.7.1\n",
      "rootdir: /Users/NewEarth/Documents/Projects/ANewTraining/Python/HundredDaysCode/My100Days, inifile:\n",
      "collected 4 items\n",
      "\n",
      "Day_009.py ....                                                          [100%]\n",
      "\n",
      "=========================== 4 passed in 0.05 seconds ===========================\n"
     ]
    }
   ],
   "source": [
    "# from states import (get_every_nth_state, get_state_abbrev,\n",
    "#                     get_longest_state, combine_state_names_and_abbreviations,\n",
    "#                     states, us_state_abbrev, NOT_FOUND)\n",
    "\n",
    "\n",
    "def test_get_every_nth_state():\n",
    "    expected = ['Massachusetts', 'Missouri', 'Hawaii',\n",
    "                'Vermont', 'Delaware']\n",
    "    assert list(get_every_nth_state()) == expected\n",
    "    expected = ['Missouri', 'Vermont']\n",
    "    assert list(get_every_nth_state(n=20)) == expected\n",
    "\n",
    "\n",
    "def test_get_state_abbrev():\n",
    "    assert get_state_abbrev('Illinois') == 'IL'\n",
    "    assert get_state_abbrev('North Dakota') == 'ND'\n",
    "    assert get_state_abbrev('bogus') == NOT_FOUND\n",
    "\n",
    "\n",
    "def test_get_longest_state():\n",
    "    # depending the direction of the sort (reversed or not)\n",
    "    # both North and South Carolina are correct\n",
    "    correct_answers = ('North Carolina', 'South Carolina')\n",
    "    assert get_longest_state(us_state_abbrev) in correct_answers\n",
    "    assert get_longest_state(states) in correct_answers\n",
    "\n",
    "\n",
    "def test_combine_state_names_and_abbreviations():\n",
    "    expected = ['AK', 'AL', 'AR', 'AZ', 'CA', 'CO', 'CT', 'DE', 'FL', 'GA',\n",
    "                'South Dakota', 'Tennessee', 'Texas', 'Utah',\n",
    "                'Vermont', 'Virginia', 'Washington', 'West Virginia',\n",
    "                'Wisconsin', 'Wyoming']\n",
    "    assert combine_state_names_and_abbreviations() == expected\n",
    "    \n",
    "ipytest.run()"
   ]
  },
  {
   "cell_type": "code",
   "execution_count": null,
   "metadata": {},
   "outputs": [],
   "source": []
  }
 ],
 "metadata": {
  "kernelspec": {
   "display_name": "Python 3",
   "language": "python",
   "name": "python3"
  },
  "language_info": {
   "codemirror_mode": {
    "name": "ipython",
    "version": 3
   },
   "file_extension": ".py",
   "mimetype": "text/x-python",
   "name": "python",
   "nbconvert_exporter": "python",
   "pygments_lexer": "ipython3",
   "version": "3.7.0"
  }
 },
 "nbformat": 4,
 "nbformat_minor": 2
}
