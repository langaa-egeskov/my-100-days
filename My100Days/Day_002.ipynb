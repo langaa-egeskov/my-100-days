{
 "cells": [
  {
   "cell_type": "markdown",
   "metadata": {},
   "source": [
    "Day 002 \n",
    "- PyBites: Bite 7. Parsing dates from logs"
   ]
  },
  {
   "cell_type": "markdown",
   "metadata": {},
   "source": [
    "My Code"
   ]
  },
  {
   "cell_type": "code",
   "execution_count": 1,
   "metadata": {},
   "outputs": [],
   "source": [
    "'''Extract datetimes from log entries and calculate the time\n",
    "   between the first and last shutdown events'''\n",
    "from datetime import datetime\n",
    "import os\n",
    "import urllib.request\n",
    "import re\n",
    "\n",
    "SHUTDOWN_EVENT = 'Shutdown initiated'\n",
    "\n",
    "#prep: read in the logfile\n",
    "logfile = os.path.join('/tmp', 'log')\n",
    "urllib.request.urlretrieve('http://bit.ly/2AKSIbf', logfile)\n",
    "\n",
    "with open(logfile) as f:\n",
    "    loglines = f.readlines()\n",
    "\n",
    "# for you to code:\n",
    "\n",
    "def convert_to_datetime(line):\n",
    "    '''TODO 1:\n",
    "       Given a log line extract its timestamp and convert it to a datetime object. \n",
    "       For example calling the function with:\n",
    "       INFO 2014-07-03T23:27:51 supybot Shutdown complete.\n",
    "       returns:\n",
    "       datetime(2014, 7, 3, 23, 27, 51)'''\n",
    "   \n",
    "    match = re.search('\\d\\d\\d\\d-\\d\\d-\\d\\dT\\d\\d:\\d\\d:\\d\\d', line)\n",
    "    date_DT = None\n",
    "    \n",
    "    if match:\n",
    "        date_string = match.group(0)\n",
    "        date_DT = datetime.strptime(date_string, '%Y-%m-%dT%H:%M:%S')\n",
    "    \n",
    "    return date_DT\n",
    "\n",
    "\n",
    "def time_between_shutdowns(loglines):\n",
    "    '''TODO 2:\n",
    "       Extract shutdown events (\"Shutdown initiated\") from loglines and calculate the \n",
    "       timedelta between the first and last one. \n",
    "       Return this datetime.timedelta object.'''\n",
    "    shutdown_events = []\n",
    "    for line in loglines:\n",
    "        if SHUTDOWN_EVENT in line:\n",
    "            shutdown_events.append(convert_to_datetime(line))\n",
    "    return shutdown_events[-1] - shutdown_events[0]"
   ]
  },
  {
   "cell_type": "markdown",
   "metadata": {},
   "source": [
    "PyBites Tests"
   ]
  },
  {
   "cell_type": "code",
   "execution_count": 5,
   "metadata": {},
   "outputs": [],
   "source": [
    "import pytest\n",
    "import ipytest\n",
    "\n",
    "# enable IPython magics for test execution\n",
    "import ipytest.magics\n",
    "\n",
    "# enable pytest's assertions\n",
    "ipytest.config.rewrite_asserts = True\n",
    "\n",
    "# set the filename\n",
    "__file__ = 'Day_002.ipynb'"
   ]
  },
  {
   "cell_type": "code",
   "execution_count": 6,
   "metadata": {},
   "outputs": [
    {
     "name": "stdout",
     "output_type": "stream",
     "text": [
      "..                                                                       [100%]\n"
     ]
    }
   ],
   "source": [
    "# tests from PyBites\n",
    "\n",
    "from datetime import datetime, timedelta\n",
    "#from logtimes import loglines, convert_to_datetime, time_between_shutdowns\n",
    "\n",
    "ipytest.clean_tests()\n",
    "\n",
    "\n",
    "def test_convert_to_datetime():\n",
    "    line1 = 'ERROR 2014-07-03T23:24:31 supybot Invalid user dictionary file'\n",
    "    line2 = 'INFO 2015-10-03T10:12:51 supybot Shutdown initiated.'\n",
    "    line3 = 'INFO 2016-09-03T02:11:22 supybot Shutdown complete.'\n",
    "    assert convert_to_datetime(line1) == datetime(2014, 7, 3, 23, 24, 31)\n",
    "    assert convert_to_datetime(line2) == datetime(2015, 10, 3, 10, 12, 51)\n",
    "    assert convert_to_datetime(line3) == datetime(2016, 9, 3, 2, 11, 22)\n",
    "\n",
    "\n",
    "def test_time_between_events():\n",
    "    diff = time_between_shutdowns(loglines)\n",
    "    assert type(diff) == timedelta\n",
    "    assert str(diff) == '0:03:31'\n",
    "    \n",
    "ipytest.run('-qq')"
   ]
  },
  {
   "cell_type": "code",
   "execution_count": null,
   "metadata": {},
   "outputs": [],
   "source": [
    "PyBites Way More Elegant Solution"
   ]
  },
  {
   "cell_type": "code",
   "execution_count": null,
   "metadata": {},
   "outputs": [],
   "source": [
    "'''Extract datetimes from log entries and calculate the time\n",
    "   between the first and last shutdown events'''\n",
    "from datetime import datetime\n",
    "import os\n",
    "import urllib.request\n",
    "\n",
    "SHUTDOWN_EVENT = 'Shutdown initiated'\n",
    "\n",
    "# prep: read in the logfile\n",
    "logfile = os.path.join('/tmp', 'log')\n",
    "urllib.request.urlretrieve('http://bit.ly/2AKSIbf', logfile)\n",
    "\n",
    "with open(logfile) as f:\n",
    "    loglines = f.readlines()\n",
    "\n",
    "\n",
    "# for you to code:\n",
    "\n",
    "def convert_to_datetime(line):\n",
    "    '''TODO 1:\n",
    "       Given a log line extract its timestamp and convert it to a datetime object.\n",
    "       For example calling the function with:\n",
    "       INFO 2014-07-03T23:27:51 supybot Shutdown complete.\n",
    "       returns:\n",
    "       datetime(2014, 7, 3, 23, 27, 51)'''\n",
    "    timestamp = line.split()[1]\n",
    "    date_str = '%Y-%m-%dT%H:%M:%S'\n",
    "    return datetime.strptime(timestamp, date_str)\n",
    "\n",
    "\n",
    "def time_between_shutdowns(loglines):\n",
    "    '''TODO 2:\n",
    "       Extract shutdown events (\"Shutdown initiated\") from loglines and\n",
    "       calculate the timedelta between the first and last one.\n",
    "       Return this datetime.timedelta object.'''\n",
    "    shutdown_entries = [line for line in loglines if SHUTDOWN_EVENT in line]\n",
    "    shutdown_times = [convert_to_datetime(event) for event in shutdown_entries]\n",
    "    return max(shutdown_times) - min(shutdown_times)"
   ]
  }
 ],
 "metadata": {
  "kernelspec": {
   "display_name": "Python 3",
   "language": "python",
   "name": "python3"
  },
  "language_info": {
   "codemirror_mode": {
    "name": "ipython",
    "version": 3
   },
   "file_extension": ".py",
   "mimetype": "text/x-python",
   "name": "python",
   "nbconvert_exporter": "python",
   "pygments_lexer": "ipython3",
   "version": "3.7.0"
  }
 },
 "nbformat": 4,
 "nbformat_minor": 2
}
