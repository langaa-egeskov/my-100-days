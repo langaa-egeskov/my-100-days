{
 "cells": [
  {
   "cell_type": "code",
   "execution_count": 47,
   "metadata": {},
   "outputs": [],
   "source": [
    "cars = {\n",
    "    'Ford': ['Falcon', 'Focus', 'Festiva', 'Fairlane'],\n",
    "    'Holden': ['Commodore', 'Captiva', 'Barina', 'Trailblazer'],\n",
    "    'Nissan': ['Maxima', 'Pulsar', '350Z', 'Navara'],\n",
    "    'Honda': ['Civic', 'Accord', 'Odyssey', 'Jazz'],\n",
    "    'Jeep': ['Grand Cherokee', 'Cherokee', 'Trailhawk', 'Trackhawk']\n",
    "}\n",
    "\n",
    "def get_all_jeeps(cars=cars):\n",
    "    \"\"\"return a comma  + space (', ') separated string of jeep models (original order)\"\"\"\n",
    "    jeeps = cars['Jeep']\n",
    "    jeep_str = ''\n",
    "    for jeep in jeeps[:len(jeeps)-1]:\n",
    "        jeep_str += jeep + ', '\n",
    "    return jeep_str + jeeps[-1]\n",
    "\n",
    "def get_first_model_each_manufacturer(cars=cars):\n",
    "    \"\"\"return a list of matching models (original ordering)\"\"\"\n",
    "    return [models[0] for make, models in cars.items()]\n",
    "\n",
    "def get_all_matching_models(cars=cars, grep='trail'):\n",
    "    \"\"\"return a list of all models containing the case insensitive\n",
    "       'grep' string which defaults to 'trail' for this exercise,\n",
    "       sort the resulting sequence alphabetically\"\"\"\n",
    "    return sorted([model for models in cars.values() for model in models if grep.lower() in model.lower()])\n",
    "\n",
    "def sort_car_models(cars=cars):\n",
    "    \"\"\"sort the car models (values) and return the resulting cars dict\"\"\"\n",
    "    return {make: sorted(models) for make, models in cars.items()}"
   ]
  },
  {
   "cell_type": "code",
   "execution_count": 38,
   "metadata": {},
   "outputs": [
    {
     "data": {
      "text/plain": [
       "'Grand Cherokee, Cherokee, Trailhawk, Trackhawk'"
      ]
     },
     "execution_count": 38,
     "metadata": {},
     "output_type": "execute_result"
    }
   ],
   "source": [
    "get_all_jeeps()"
   ]
  },
  {
   "cell_type": "code",
   "execution_count": 39,
   "metadata": {},
   "outputs": [
    {
     "data": {
      "text/plain": [
       "['Falcon', 'Commodore', 'Maxima', 'Civic', 'Grand Cherokee']"
      ]
     },
     "execution_count": 39,
     "metadata": {},
     "output_type": "execute_result"
    }
   ],
   "source": [
    "get_first_model_each_manufacturer()"
   ]
  },
  {
   "cell_type": "code",
   "execution_count": 48,
   "metadata": {},
   "outputs": [
    {
     "data": {
      "text/plain": [
       "['Trailblazer', 'Trailhawk']"
      ]
     },
     "execution_count": 48,
     "metadata": {},
     "output_type": "execute_result"
    }
   ],
   "source": [
    "get_all_matching_models()"
   ]
  },
  {
   "cell_type": "code",
   "execution_count": 50,
   "metadata": {},
   "outputs": [
    {
     "data": {
      "text/plain": [
       "['Accord', 'Commodore', 'Falcon']"
      ]
     },
     "execution_count": 50,
     "metadata": {},
     "output_type": "execute_result"
    }
   ],
   "source": [
    "get_all_matching_models(grep='CO')"
   ]
  },
  {
   "cell_type": "code",
   "execution_count": 51,
   "metadata": {},
   "outputs": [
    {
     "data": {
      "text/plain": [
       "{'Ford': ['Fairlane', 'Falcon', 'Festiva', 'Focus'],\n",
       " 'Holden': ['Barina', 'Captiva', 'Commodore', 'Trailblazer'],\n",
       " 'Nissan': ['350Z', 'Maxima', 'Navara', 'Pulsar'],\n",
       " 'Honda': ['Accord', 'Civic', 'Jazz', 'Odyssey'],\n",
       " 'Jeep': ['Cherokee', 'Grand Cherokee', 'Trackhawk', 'Trailhawk']}"
      ]
     },
     "execution_count": 51,
     "metadata": {},
     "output_type": "execute_result"
    }
   ],
   "source": [
    "sort_car_models()"
   ]
  },
  {
   "cell_type": "code",
   "execution_count": 52,
   "metadata": {},
   "outputs": [],
   "source": [
    "def get_all_matching_models2(cars=cars, grep='trail'):\n",
    "    \"\"\"return a list of all models containing the case insensitive\n",
    "       'grep' string which defaults to 'trail' for this exercise,\n",
    "       sort the resulting sequence alphabetically\"\"\"\n",
    "    return sorted([model for models in cars.values() for model in models if grep.lower() in model.lower()])"
   ]
  },
  {
   "cell_type": "code",
   "execution_count": 53,
   "metadata": {},
   "outputs": [
    {
     "data": {
      "text/plain": [
       "['Trailblazer', 'Trailhawk']"
      ]
     },
     "execution_count": 53,
     "metadata": {},
     "output_type": "execute_result"
    }
   ],
   "source": [
    "get_all_matching_models2()"
   ]
  },
  {
   "cell_type": "code",
   "execution_count": 54,
   "metadata": {},
   "outputs": [],
   "source": [
    "import pytest\n",
    "import ipytest\n",
    "import ipytest.magics\n",
    "\n",
    "ipytest.config.rewrite_asserts = True\n",
    "__file__ = 'Day_008.ipynb'"
   ]
  },
  {
   "cell_type": "code",
   "execution_count": 55,
   "metadata": {},
   "outputs": [
    {
     "name": "stdout",
     "output_type": "stream",
     "text": [
      "============================= test session starts ==============================\n",
      "platform darwin -- Python 3.7.0, pytest-3.8.2, py-1.7.0, pluggy-0.7.1 -- /anaconda3/bin/python\n",
      "cachedir: .pytest_cache\n",
      "rootdir: /Users/NewEarth/Documents/Projects/ANewTraining/Python/HundredDaysCode/My100Days, inifile:\n",
      "collecting ... collected 4 items\n",
      "\n",
      "Day_008.py::test_get_all_jeeps <- <ipython-input-55-979e85e0a257> PASSED [ 25%]\n",
      "Day_008.py::test_get_first_model_each_manufacturer <- <ipython-input-55-979e85e0a257> PASSED [ 50%]\n",
      "Day_008.py::test_get_all_matching_models <- <ipython-input-55-979e85e0a257> PASSED [ 75%]\n",
      "Day_008.py::test_sort_dict_alphabetically <- <ipython-input-55-979e85e0a257> PASSED [100%]\n",
      "\n",
      "=========================== 4 passed in 0.08 seconds ===========================\n"
     ]
    }
   ],
   "source": [
    "# from cars import (get_all_jeeps, get_first_model_each_manufacturer,\n",
    "#                   get_all_matching_models, sort_car_models)\n",
    "\n",
    "\n",
    "def test_get_all_jeeps():\n",
    "    expected = 'Grand Cherokee, Cherokee, Trailhawk, Trackhawk'\n",
    "    actual = get_all_jeeps()\n",
    "    assert type(actual) == str\n",
    "    assert actual == expected\n",
    "\n",
    "\n",
    "def test_get_first_model_each_manufacturer():\n",
    "    actual = get_first_model_each_manufacturer()\n",
    "    expected = ['Falcon', 'Commodore', 'Maxima', 'Civic', 'Grand Cherokee']\n",
    "    assert actual == expected\n",
    "\n",
    "\n",
    "def test_get_all_matching_models():\n",
    "    expected = ['Trailblazer', 'Trailhawk']\n",
    "    assert get_all_matching_models() == expected\n",
    "    expected = ['Accord', 'Commodore', 'Falcon']\n",
    "    assert get_all_matching_models(grep='CO') == expected\n",
    "\n",
    "\n",
    "def test_sort_dict_alphabetically():\n",
    "    actual = sort_car_models()\n",
    "    # Order of keys should not matter, two dicts are equal if they have the\n",
    "    # same keys and the same values.\n",
    "    # The car models (values) need to be sorted here though\n",
    "    expected = {\n",
    "        'Ford': ['Fairlane', 'Falcon', 'Festiva', 'Focus'],\n",
    "        'Holden': ['Barina', 'Captiva', 'Commodore', 'Trailblazer'],\n",
    "        'Honda': ['Accord', 'Civic', 'Jazz', 'Odyssey'],\n",
    "        'Jeep': ['Cherokee', 'Grand Cherokee', 'Trackhawk', 'Trailhawk'],\n",
    "        'Nissan': ['350Z', 'Maxima', 'Navara', 'Pulsar'],\n",
    "    }\n",
    "    assert actual == expected\n",
    "    \n",
    "ipytest.run('-v')"
   ]
  },
  {
   "cell_type": "code",
   "execution_count": null,
   "metadata": {},
   "outputs": [],
   "source": []
  },
  {
   "cell_type": "code",
   "execution_count": null,
   "metadata": {},
   "outputs": [],
   "source": []
  }
 ],
 "metadata": {
  "kernelspec": {
   "display_name": "Python 3",
   "language": "python",
   "name": "python3"
  },
  "language_info": {
   "codemirror_mode": {
    "name": "ipython",
    "version": 3
   },
   "file_extension": ".py",
   "mimetype": "text/x-python",
   "name": "python",
   "nbconvert_exporter": "python",
   "pygments_lexer": "ipython3",
   "version": "3.7.0"
  }
 },
 "nbformat": 4,
 "nbformat_minor": 2
}
