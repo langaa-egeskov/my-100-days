{
 "cells": [
  {
   "cell_type": "markdown",
   "metadata": {},
   "source": [
    "### Notes from Yesterday\n",
    "\n",
    "The Hitchhikers Guide to Python Testing\n",
    "https://docs.python-guide.org/ \n",
    "- testing section - ok\n",
    "- venv with alias - ok\n",
    "- decorators with @property - wip\n",
    "- @patch.object to mock a random value or user input - ok \n",
    "- unit test and pytest - ok\n",
    "- control z to toggle between vim and editor ok \n",
    "- ill just set up sublime I think…i dont know, or do i go throoug the little tutorial again??? ugh\n",
    "- pytest cov - ok\n",
    "- oh but is his vimrc file in there?? gotta see - screen shot for later\n",
    "- capfd - ok\n",
    "- fizz buzz - ok\n",
    "- parameterize - ok\n",
    "- TDD test driven development - ok\n",
    "- type through the guess game and the tests - ok\n",
    "- testing exceptions - ok\n",
    "- the use of the dunder methods - wip\n",
    "- DRY what is (parameterize is DRY) - Dont Repeat your self\n",
    "- pybite  - ok\n",
    "- flask api ? - no\n",
    "- fixtures and the bob bebderos article on pybites - Day 12\n",
    "- obviously the nice pytest book … already reading Brian Okken - wip\n",
    "- kind of good b/c havent been using decorator - wip\n",
    "- fix the sublime tab issues - ok\n",
    "- this line: guess_str = self.num_guesses == 1 and \"guess\" or \"guesses\" - ok\n",
    "- cant see how to write tests for Labroche and Martingale, maybe as sign code should be refactored?\n",
    "- finsihed day 11 work will take a break and get out day 12??"
   ]
  },
  {
   "cell_type": "code",
   "execution_count": 1,
   "metadata": {},
   "outputs": [],
   "source": [
    "# guess.py\n",
    "\n",
    "import random\n",
    "\n",
    "MAX_GUESSES = 5\n",
    "START, END = 1, 20\n",
    "\n",
    "def get_random_number():\n",
    "    \"\"\"Get a random number beween START and END, returns int\"\"\"\n",
    "    return random.randint(START, END)\n",
    "\n",
    "class Game:\n",
    "    \"\"\"Number guess class, make it callable to initiate game\"\"\"\n",
    "\n",
    "    def __init__(self):\n",
    "        \"\"\"Init _guesses, _answer, _win to set(), get_random_number(), False\"\"\"\n",
    "        self._guesses = set()\n",
    "        self._answer = get_random_number()\n",
    "        self._win = False\n",
    "\n",
    "    def guess(self):\n",
    "        \"\"\"Ask user for input, convert to int, raise ValueError outputting \n",
    "           the following when applicable:\n",
    "           'Please enter a number'\n",
    "           'Should be a number'\n",
    "           'Number not in range'\n",
    "           'Already guessed'\n",
    "           If all good, return the int\"\"\"\n",
    "        guess = input(f'Guess an number between {START} and {END}: ')\n",
    "        if not guess:\n",
    "            raise ValueError('Please enter a number')\n",
    "\n",
    "        try: \n",
    "            guess = int(guess)\n",
    "        except ValueError:\n",
    "            raise ValueError('Should be a number')\n",
    "\n",
    "        if guess not in range(START, END+1):\n",
    "            raise ValueError('Number not in range')\n",
    "\n",
    "        if guess in self._guesses:\n",
    "            raise ValueError('Already guessed')\n",
    "\n",
    "        self._guesses.add(guess)\n",
    "        return guess\n",
    "\n",
    "    def _validate_guess(self, guess):\n",
    "        \"\"\"Verify if guess is correct, print the following when applicable:\n",
    "           {guess} is correct!\n",
    "           {guess} is too low\n",
    "           {guess} is too high\n",
    "           Return a boolean\"\"\"\n",
    "        if guess == self._answer:\n",
    "            print(f'{guess} is correct!')\n",
    "            return True\n",
    "        else: \n",
    "            high_or_low = 'low' if guess < self._answer else 'high'\n",
    "            print(f'{guess} is too {high_or_low}')\n",
    "            return False\n",
    "\n",
    "    @property\n",
    "    def num_guesses(self):\n",
    "        return len(self._guesses)\n",
    "\n",
    "    def __call__(self):\n",
    "        \"\"\"Entry point / game loop, use a loop break/continue,\n",
    "           see the tests for the exact win/lose messaging\"\"\"\n",
    "\n",
    "        while len(self._guesses) < MAX_GUESSES:\n",
    "            try:\n",
    "                guess = self.guess()\n",
    "            except ValueError as ve:\n",
    "                print(ve)\n",
    "                continue\n",
    "    \n",
    "            win = self._validate_guess(guess)\n",
    "            if win:\n",
    "                guess_str = self.num_guesses == 1 and \"guess\" or \"guesses\"\n",
    "                print(f'It took you {self.num_guesses} {guess_str}')\n",
    "                self._win = True\n",
    "                break\n",
    "        else:\n",
    "          # else on while/for = anti-pattern? do find it useful in this case\n",
    "          print(f'Guess {MAX_GUESSES} times, answer was {self._answer}')\n",
    "\n",
    "# if __name__ == '__main__':\n",
    "#     game = Game()\n",
    "#     game()\n"
   ]
  },
  {
   "cell_type": "code",
   "execution_count": 2,
   "metadata": {},
   "outputs": [
    {
     "name": "stdout",
     "output_type": "stream",
     "text": [
      "Guess an number between 1 and 20: 5\n",
      "5 is too high\n",
      "Guess an number between 1 and 20: 3\n",
      "3 is correct!\n",
      "It took you 2 guesses\n"
     ]
    }
   ],
   "source": [
    "game = Game()\n",
    "game()"
   ]
  },
  {
   "cell_type": "raw",
   "metadata": {},
   "source": [
    "pytest cov-report term-missing -cov=‘.’"
   ]
  },
  {
   "cell_type": "code",
   "execution_count": 10,
   "metadata": {},
   "outputs": [],
   "source": [
    "from unittest.mock import patch\n",
    "import random\n",
    "import pytest\n",
    "import ipytest\n",
    "import ipytest.magics\n",
    "\n",
    "ipytest.config.rewrite_asserts = True\n",
    "__file__ = 'Day_011.ipynb'"
   ]
  },
  {
   "cell_type": "code",
   "execution_count": 11,
   "metadata": {},
   "outputs": [
    {
     "name": "stdout",
     "output_type": "stream",
     "text": [
      "============================= test session starts ==============================\n",
      "platform darwin -- Python 3.7.0, pytest-3.8.2, py-1.7.0, pluggy-0.7.1\n",
      "rootdir: /Users/NewEarth/Documents/Projects/ANewTraining/Python/HundredDaysCode/My100Days/Day_011/ipython, inifile:\n",
      "plugins: cov-2.6.0\n",
      "collected 6 items\n",
      "\n",
      "Day_011.py ......                                                        [100%]\n",
      "\n",
      "=============================== warnings summary ===============================\n",
      "/anaconda3/lib/python3.7/site-packages/_pytest/assertion/rewrite.py:268: PytestWarning: Module already imported so cannot be rewritten: pytest_cov\n",
      "  self.config,\n",
      "\n",
      "-- Docs: https://docs.pytest.org/en/latest/warnings.html\n",
      "===================== 6 passed, 1 warnings in 0.09 seconds =====================\n"
     ]
    }
   ],
   "source": [
    "# test_guess.py\n",
    "\n",
    "@patch.object(random, 'randint')\n",
    "def test_get_random_number(m):\n",
    "    m.return_value = 17\n",
    "    assert get_random_number() == 17\n",
    "\n",
    "@patch(\"builtins.input\", side_effect=[11, '12', 'bob', 12, 5,\n",
    "                                     -1, 21, 7, None])\n",
    "def test_guess(inp):\n",
    "    game = Game()\n",
    "    # good\n",
    "    assert game.guess() == 11\n",
    "    assert game.guess() == 12\n",
    "\n",
    "    # not a number\n",
    "    with pytest.raises(ValueError):\n",
    "        game.guess() \n",
    "\n",
    "    # already guessed\n",
    "    with pytest.raises(ValueError):\n",
    "        game.guess()\n",
    "\n",
    "    # good\n",
    "    assert game.guess() == 5\n",
    "\n",
    "    # value out of range\n",
    "    with pytest.raises(ValueError):\n",
    "        game.guess()\n",
    "\n",
    "    with pytest.raises(ValueError):\n",
    "        game.guess()\n",
    "\n",
    "    # good\n",
    "    assert game.guess() == 7\n",
    "\n",
    "    # user hit enter without guessing\n",
    "    with pytest.raises(ValueError):\n",
    "        game.guess()\n",
    "\n",
    "def test_validate_guess(capfd):\n",
    "    game = Game()\n",
    "    game._answer = 2\n",
    "\n",
    "    assert not game._validate_guess(1)\n",
    "    out, _ = capfd.readouterr()\n",
    "    assert out.rstrip() == '1 is too low'\n",
    "\n",
    "    assert not game._validate_guess(3)\n",
    "    out, _ = capfd.readouterr()\n",
    "    assert out.rstrip() == '3 is too high'\n",
    "\n",
    "    assert game._validate_guess(2)\n",
    "    out, _ = capfd.readouterr()\n",
    "    assert out.strip() == '2 is correct!'\n",
    "\n",
    "@patch(\"builtins.input\", side_effect=[4, 22, 9, 4, 6])\n",
    "def test_game_win(inp, capfd):\n",
    "    game = Game()\n",
    "    game._answer = 6\n",
    "\n",
    "    game()\n",
    "    assert game._win is True\n",
    "\n",
    "    out = capfd.readouterr()[0]\n",
    "    expected = ['4 is too low', 'Number not in range', '9 is too high', \n",
    "                'Already guessed', '6 is correct!', 'It took you 3 guesses']\n",
    "\n",
    "    output = [line.strip() for line in out.split('\\n') if line.strip()]\n",
    "    for line, exp in zip(output, expected):\n",
    "        assert line == exp\n",
    "\n",
    "@patch(\"builtins.input\", side_effect=[None, 5, 9, 14, 11, 12])\n",
    "def test_game_lose(inp, capfd):\n",
    "    game = Game()\n",
    "    game._answer = 13\n",
    "\n",
    "    game()\n",
    "    assert game._win is False\n",
    "    \n",
    "ipytest.run()"
   ]
  },
  {
   "cell_type": "code",
   "execution_count": 12,
   "metadata": {},
   "outputs": [],
   "source": [
    "def color_wheel():\n",
    "    red   = set(list(range(1, 10, 2)) + list(range(12, 19, 2)) + list(range(19, 28, 2)) + list(range(30, 37, 2)))\n",
    "    black = set(list(range(2, 12, 2)) + list(range(11, 18, 2)) + list(range(20, 29, 2)) + list(range(29, 36, 2)))\n",
    "    green = [37, 38]\n",
    "    \n",
    "    spin = random.randrange(1,39)\n",
    "    \n",
    "    if spin in green:\n",
    "        color = 'green'\n",
    "    elif spin in red:\n",
    "        color = 'red'\n",
    "    elif spin in black:\n",
    "        color = 'black'\n",
    "    \n",
    "    return color\n",
    "\n",
    "def Labouchere(numbers = None):\n",
    "    # I learned here the pitfalls of trying to use a mutable list as a default variable \n",
    "    # def Labouchere(numbers = [1, 2, 3, 4]) led to unexpected results when the fxn was repeatedly evaluated\n",
    "    # https://docs.python-guide.org/writing/gotchas/\n",
    "    \n",
    "    if numbers is None:\n",
    "        numbers = [1, 2, 3, 4]\n",
    "    print('numbers = {}'.format(numbers))\n",
    "    i = 1\n",
    "    bet_color = 'red'\n",
    "    winnings = 0\n",
    "    \n",
    "    while numbers:\n",
    "        # check the length of the list\n",
    "        if len(numbers) < 2:\n",
    "            bet_amount =  numbers[0]\n",
    "        else:\n",
    "            bet_amount = numbers[0] + numbers[-1]\n",
    "            \n",
    "        # use the simple wheel\n",
    "        outcome = color_wheel()\n",
    "        \n",
    "        if outcome == bet_color:\n",
    "            numbers = numbers[1:-1]\n",
    "            winnings += bet_amount\n",
    "        else:\n",
    "            numbers.append(bet_amount)\n",
    "            winnings -= bet_amount\n",
    "        \n",
    "        print('i:{}, bet_amount:{}, outcome:{},   winnings{},    numbers:{}'.format(i, bet_amount, outcome, winnings, numbers))\n",
    "        i += 1 \n",
    "        \n",
    "    return winnings\n",
    "\n",
    "def Martingale(bet='red'):\n",
    "    bet_amount = 1\n",
    "    winnings = 0\n",
    "    i = 1\n",
    "    \n",
    "    while winnings > -100 and winnings < 5:\n",
    "        outcome = color_wheel()\n",
    "\n",
    "        if outcome == bet:\n",
    "            winnings += bet_amount\n",
    "            bet_amount = 1\n",
    "\n",
    "        else:\n",
    "            winnings -= bet_amount\n",
    "            bet_amount *= 2\n",
    "            \n",
    "        print('i:{},\\toutcome:{},\\twinnings:{},\\tbet_amount:{},'.format(i, outcome, winnings, bet_amount))    \n",
    "        i += 1\n",
    "    \n",
    "    return winnings\n",
    "\n"
   ]
  },
  {
   "cell_type": "code",
   "execution_count": 13,
   "metadata": {},
   "outputs": [
    {
     "data": {
      "text/plain": [
       "'red'"
      ]
     },
     "execution_count": 13,
     "metadata": {},
     "output_type": "execute_result"
    }
   ],
   "source": [
    "color_wheel()"
   ]
  },
  {
   "cell_type": "code",
   "execution_count": 18,
   "metadata": {},
   "outputs": [
    {
     "name": "stdout",
     "output_type": "stream",
     "text": [
      "============================= test session starts ==============================\n",
      "platform darwin -- Python 3.7.0, pytest-3.8.2, py-1.7.0, pluggy-0.7.1\n",
      "rootdir: /Users/NewEarth/Documents/Projects/ANewTraining/Python/HundredDaysCode/My100Days/Day_011/ipython, inifile:\n",
      "plugins: cov-2.6.0\n",
      "collected 6 items\n",
      "\n",
      "Day_011.py ......\n",
      "\n",
      "=============================== warnings summary ===============================\n",
      "/anaconda3/lib/python3.7/site-packages/_pytest/assertion/rewrite.py:268: PytestWarning: Module already imported so cannot be rewritten: pytest_cov\n",
      "  self.config,\n",
      "\n",
      "-- Docs: https://docs.pytest.org/en/latest/warnings.html\n",
      "===================== 6 passed, 1 warnings in 0.09 seconds =====================\n"
     ]
    }
   ],
   "source": [
    "@patch.object(random, 'randrange')\n",
    "def test_color_wheel(m):\n",
    "    m.return_value = 9\n",
    "    assert color_wheel() == 'red'\n",
    "    m.return_value = 17\n",
    "    assert color_wheel() == 'black'\n",
    "    m.return_value = 37\n",
    "    assert color_wheel() == 'green'\n",
    "    \n",
    "ipytest.run('-s')"
   ]
  },
  {
   "cell_type": "code",
   "execution_count": 21,
   "metadata": {},
   "outputs": [
    {
     "data": {
      "text/plain": [
       "'guess'"
      ]
     },
     "execution_count": 21,
     "metadata": {},
     "output_type": "execute_result"
    }
   ],
   "source": [
    "num_guesses = 1\n",
    "num_guesses == 1 and \"guess\" or 'guesses'"
   ]
  },
  {
   "cell_type": "code",
   "execution_count": 22,
   "metadata": {},
   "outputs": [
    {
     "data": {
      "text/plain": [
       "'guesses'"
      ]
     },
     "execution_count": 22,
     "metadata": {},
     "output_type": "execute_result"
    }
   ],
   "source": [
    "num_guesses = 2\n",
    "num_guesses == 1 and \"guess\" or 'guesses'"
   ]
  },
  {
   "cell_type": "code",
   "execution_count": 23,
   "metadata": {},
   "outputs": [
    {
     "data": {
      "text/plain": [
       "'guess'"
      ]
     },
     "execution_count": 23,
     "metadata": {},
     "output_type": "execute_result"
    }
   ],
   "source": [
    "True and 'guess'"
   ]
  },
  {
   "cell_type": "code",
   "execution_count": 24,
   "metadata": {},
   "outputs": [
    {
     "data": {
      "text/plain": [
       "False"
      ]
     },
     "execution_count": 24,
     "metadata": {},
     "output_type": "execute_result"
    }
   ],
   "source": [
    "False and 'guess'"
   ]
  },
  {
   "cell_type": "code",
   "execution_count": 25,
   "metadata": {},
   "outputs": [
    {
     "data": {
      "text/plain": [
       "'guesses'"
      ]
     },
     "execution_count": 25,
     "metadata": {},
     "output_type": "execute_result"
    }
   ],
   "source": [
    "False and 'guess' or 'guesses'"
   ]
  },
  {
   "cell_type": "code",
   "execution_count": null,
   "metadata": {},
   "outputs": [],
   "source": []
  }
 ],
 "metadata": {
  "kernelspec": {
   "display_name": "Python 3",
   "language": "python",
   "name": "python3"
  },
  "language_info": {
   "codemirror_mode": {
    "name": "ipython",
    "version": 3
   },
   "file_extension": ".py",
   "mimetype": "text/x-python",
   "name": "python",
   "nbconvert_exporter": "python",
   "pygments_lexer": "ipython3",
   "version": "3.7.0"
  }
 },
 "nbformat": 4,
 "nbformat_minor": 2
}
