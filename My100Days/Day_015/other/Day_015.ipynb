{
 "cells": [
  {
   "cell_type": "code",
   "execution_count": null,
   "metadata": {},
   "outputs": [],
   "source": [
    "!which python"
   ]
  },
  {
   "cell_type": "code",
   "execution_count": null,
   "metadata": {},
   "outputs": [],
   "source": [
    "!pip freeze"
   ]
  },
  {
   "cell_type": "code",
   "execution_count": null,
   "metadata": {},
   "outputs": [],
   "source": [
    "! pip install pandas"
   ]
  },
  {
   "cell_type": "code",
   "execution_count": null,
   "metadata": {},
   "outputs": [],
   "source": [
    "import pandas as pd"
   ]
  },
  {
   "cell_type": "code",
   "execution_count": null,
   "metadata": {},
   "outputs": [],
   "source": [
    "! ls"
   ]
  },
  {
   "cell_type": "code",
   "execution_count": null,
   "metadata": {},
   "outputs": [],
   "source": [
    "bt_df = pd.read_csv('battle-table.csv', index_col = 0)"
   ]
  },
  {
   "cell_type": "code",
   "execution_count": null,
   "metadata": {},
   "outputs": [],
   "source": [
    "bt_df"
   ]
  },
  {
   "cell_type": "code",
   "execution_count": null,
   "metadata": {},
   "outputs": [],
   "source": [
    "win = 'win'\n",
    "lose = 'lose'\n",
    "draw = 'draw'"
   ]
  },
  {
   "cell_type": "code",
   "execution_count": null,
   "metadata": {},
   "outputs": [],
   "source": [
    "class Throw:\n",
    "\n",
    "    def __init__(self, name, defeated_throws):\n",
    "        self.name = name\n",
    "        self.defeated_throws = defeated_throws\n",
    "\n",
    "    def can_defeat(self, throw):\n",
    "        if throw.name in self.defeated_throws:\n",
    "            return True\n",
    "        else:\n",
    "            return False\n",
    "        \n",
    "    def __repr__(self):\n",
    "        return f'Throw({self.name}, {self.defeated_throws})'"
   ]
  },
  {
   "cell_type": "code",
   "execution_count": null,
   "metadata": {},
   "outputs": [],
   "source": [
    "class Player:\n",
    "    def __init__(self, name):\n",
    "        self.name = name\n",
    "        self.wins = 0\n",
    "    \n",
    "    def __repr__(self):\n",
    "        return f'Player({self.name})'"
   ]
  },
  {
   "cell_type": "code",
   "execution_count": null,
   "metadata": {},
   "outputs": [],
   "source": [
    "import random\n",
    "\n",
    "def print_header():\n",
    "    print('--------------------------------------------------')\n",
    "    print('        15 Way: Rock, Paper, Scissors             ')\n",
    "    print('--------------------------------------------------')"
   ]
  },
  {
   "cell_type": "code",
   "execution_count": null,
   "metadata": {},
   "outputs": [],
   "source": [
    "# columns are opponents\n",
    "# format is bt_df[opponent][attacker]\n",
    "# outcome is whether the attacker wins or loses\n",
    "bt_df['Rock']['Paper']"
   ]
  },
  {
   "cell_type": "code",
   "execution_count": null,
   "metadata": {},
   "outputs": [],
   "source": [
    "can_defeat_dict = {}\n",
    "for attacker in bt_df.index:\n",
    "    can_defeat_list = []\n",
    "    for opponent in bt_df.columns:\n",
    "        outcome = bt_df[opponent][attacker]\n",
    "        if outcome == win:\n",
    "            can_defeat_list.append(opponent)\n",
    "    can_defeat_dict[attacker] = can_defeat_list\n",
    "can_defeat_dict"
   ]
  },
  {
   "cell_type": "code",
   "execution_count": null,
   "metadata": {},
   "outputs": [],
   "source": [
    "# refactor to use a dictionary since that makes more sense\n",
    "def build_throws():\n",
    "    '''Dict of throws that the throw can defeat in the form\n",
    "       \"Throw\" : Throw('Throw', [list of can defeats])\n",
    "    '''\n",
    "    can_defeat_dict = {}\n",
    "    for attacker in bt_df.index:\n",
    "        can_defeat_list = []\n",
    "        for opponent in bt_df.columns:\n",
    "            outcome = bt_df[opponent][attacker]\n",
    "            if outcome == win:\n",
    "                can_defeat_list.append(opponent)\n",
    "        can_defeat_dict[attacker] = can_defeat_list\n",
    "    \n",
    "    throws_dict = {}\n",
    "    for attacker, can_defeat_list in can_defeat_dict.items():\n",
    "        throws_dict[attacker] = Throw(attacker, can_defeat_list)\n",
    "    return throws_dict"
   ]
  },
  {
   "cell_type": "code",
   "execution_count": null,
   "metadata": {},
   "outputs": [],
   "source": [
    "throws = build_throws()\n",
    "throws"
   ]
  },
  {
   "cell_type": "code",
   "execution_count": null,
   "metadata": {},
   "outputs": [],
   "source": [
    "def get_player1_name():\n",
    "    name = input('What is your name? ')\n",
    "    print()\n",
    "    return str(name.strip())"
   ]
  },
  {
   "cell_type": "code",
   "execution_count": null,
   "metadata": {},
   "outputs": [],
   "source": [
    "def get_random_throw(throws):\n",
    "    throw_by_num = {}\n",
    "    for i, name_of_throw in enumerate(throws):\n",
    "        throw_by_num[i]= name_of_throw\n",
    "    # choosing to write it this way so it is easier to mock the random fx\n",
    "    num_of_throw = random.choice(list(range(len(throw_by_num))))\n",
    "    return throws[throw_by_num[num_of_throw]]"
   ]
  },
  {
   "cell_type": "code",
   "execution_count": null,
   "metadata": {},
   "outputs": [],
   "source": [
    "get_random_throw(throws)"
   ]
  },
  {
   "cell_type": "code",
   "execution_count": null,
   "metadata": {},
   "outputs": [],
   "source": []
  },
  {
   "cell_type": "code",
   "execution_count": null,
   "metadata": {},
   "outputs": [],
   "source": [
    "# TODO\n",
    "# Figure out how you want to imput the choice ? [fi]re [wo]lf\n",
    "# use regex to match keys; import re\n",
    "\n",
    "\n",
    "def get_player1_throw(throws):\n",
    "    string = 'Please type your throw: \\n'\n",
    "    for throw in throws:\n",
    "        string += f'\\t[{throw[:2].lower()}]{throw[2:]}\\n'\n",
    "    string += 'Enter your throw:  '\n",
    "    pick = (input(string).lower()).capitalize()\n",
    "    \n",
    "    choice = [(k, v) for k, v in throws.items() if pick[:2] == k[:2]]\n",
    "    error_string = \"\\nType the first two letters of the throw you wish to choose.\\n\"\n",
    "    error_string += \"Or you may type 'q' to quit.\\n\"\n",
    "    quit_string = \"Quitting the game, thanks for playing.\"\n",
    "    \n",
    "    if choice:\n",
    "        try: \n",
    "            len(choice) == 1\n",
    "            print(f'You choose {choice[0][0]}\\n')\n",
    "            return choice[0][1]\n",
    "        except ValueError:\n",
    "            print(error_string)\n",
    "            get_player1_throw()\n",
    "    elif pick == 'quit' or pick == 'q':\n",
    "        print(quit_string)\n",
    "        return\n",
    "    else:\n",
    "        print(error_string)\n",
    "        get_player1_throw(throws)\n"
   ]
  },
  {
   "cell_type": "code",
   "execution_count": null,
   "metadata": {},
   "outputs": [],
   "source": [
    "get_player1_throw(throws)"
   ]
  },
  {
   "cell_type": "code",
   "execution_count": null,
   "metadata": {},
   "outputs": [],
   "source": [
    "def player_rounds(player1, player2, throws):\n",
    "    count = 1\n",
    "    decisive_rounds = 0\n",
    "\n",
    "    while decisive_rounds < 3 and player1.wins < 2 and player2.wins < 2:\n",
    "        player2_throw = get_random_throw(throws)\n",
    "        player1_throw = get_player1_throw(throws)\n",
    "        print(f'{player1_throw.name : <5}{player2_throw.name : <5}')\n",
    "\n",
    "        player1_win = player1_throw.can_defeat(player2_throw)\n",
    "        player2_win = player2_throw.can_defeat(player1_throw)\n",
    "\n",
    "        if player1_win:\n",
    "            winner = player1\n",
    "        elif player2_win:\n",
    "            winner = player2\n",
    "        elif not player1_win and not player2_win:\n",
    "            winner = None\n",
    "\n",
    "        print(f'Round {count}')\n",
    "        print(f'_____________')\n",
    "        print(f'{player1.name} threw a {player1_throw.name}')\n",
    "        print(f'{player2.name} threw a {player2_throw.name}')\n",
    "        print()\n",
    "\n",
    "        try:\n",
    "            print(f'The winner for this round is {winner.name}')\n",
    "            winner.wins += 1\n",
    "            decisive_rounds += 1\n",
    "        except (AttributeError):\n",
    "            print(f'This round had no winner and is a tie round')\n",
    "\n",
    "        print()\n",
    "        count += 1\n",
    "\n",
    "    if player1.wins > player2.wins:\n",
    "        overall_winner = player1\n",
    "    elif player2.wins > player1.wins:\n",
    "        overall_winner = player2\n",
    "\n",
    "    print(f'{overall_winner.name} is the winner!')\n",
    "    print(('{0} won {1} out of {2} rounds that did not end in tie'\n",
    "           .format(overall_winner.name, overall_winner.wins, decisive_rounds)))"
   ]
  },
  {
   "cell_type": "code",
   "execution_count": null,
   "metadata": {},
   "outputs": [],
   "source": [
    "def game():\n",
    "    print_header()\n",
    "    throws = build_throws()\n",
    "    name = get_player1_name()\n",
    "    player1 = Player(name)\n",
    "    player2 = Player('Computer')\n",
    "    player_rounds(player1, player2, throws)"
   ]
  },
  {
   "cell_type": "code",
   "execution_count": null,
   "metadata": {},
   "outputs": [],
   "source": [
    "game()"
   ]
  },
  {
   "cell_type": "code",
   "execution_count": null,
   "metadata": {},
   "outputs": [],
   "source": []
  }
 ],
 "metadata": {
  "kernelspec": {
   "display_name": "Python 3",
   "language": "python",
   "name": "python3"
  },
  "language_info": {
   "codemirror_mode": {
    "name": "ipython",
    "version": 3
   },
   "file_extension": ".py",
   "mimetype": "text/x-python",
   "name": "python",
   "nbconvert_exporter": "python",
   "pygments_lexer": "ipython3",
   "version": "3.7.0"
  }
 },
 "nbformat": 4,
 "nbformat_minor": 2
}
