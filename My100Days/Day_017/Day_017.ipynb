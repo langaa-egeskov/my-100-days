{
 "cells": [
  {
   "cell_type": "markdown",
   "metadata": {},
   "source": [
    "#### PyBites: Bite 5"
   ]
  },
  {
   "cell_type": "code",
   "execution_count": 1,
   "metadata": {},
   "outputs": [],
   "source": [
    "import pytest\n",
    "import ipytest\n",
    "import ipytest.magics\n",
    "\n",
    "ipytest.config.rewrite_asserts = True\n",
    "\n",
    "__file__ = \"Day_017.ipynb\""
   ]
  },
  {
   "cell_type": "code",
   "execution_count": 2,
   "metadata": {},
   "outputs": [],
   "source": [
    "NAMES = ['arnold schwarzenegger', 'alec baldwin', 'bob belderbos',\n",
    "         'julian sequeira', 'sandra bullock', 'keanu reeves',\n",
    "         'julbob pybites', 'bob belderbos', 'julian sequeira',\n",
    "         'al pacino', 'brad pitt', 'matt damon', 'brad pitt']\n",
    "\n",
    "\n",
    "def dedup_and_title_case_names(names):\n",
    "    \"\"\"Should return a list of names, each name appears only once\"\"\"\n",
    "    name_set = {name.title() for name in NAMES}\n",
    "    return [name for name in name_set]\n",
    "\n",
    "\n",
    "def sort_by_surname_desc(names):\n",
    "    \"\"\"Returns names list sorted desc by surname\"\"\"\n",
    "    names = dedup_and_title_case_names(names)\n",
    "    return sorted(names, key = lambda x: x.split()[1], reverse=True)\n",
    "    \n",
    "\n",
    "\n",
    "def shortest_first_name(names):\n",
    "    \"\"\"Returns the shortest first name (str)\"\"\"\n",
    "    names = dedup_and_title_case_names(names)\n",
    "    return (sorted(names, key = lambda x: len(x.split()[0]))[0]).split()[0]"
   ]
  },
  {
   "cell_type": "code",
   "execution_count": 3,
   "metadata": {},
   "outputs": [
    {
     "name": "stdout",
     "output_type": "stream",
     "text": [
      "========================================= test session starts ==========================================\n",
      "platform darwin -- Python 3.7.0, pytest-3.8.2, py-1.7.0, pluggy-0.7.1 -- /anaconda3/bin/python\n",
      "cachedir: .pytest_cache\n",
      "rootdir: /Users/NewEarth/Documents/Projects/ANewTraining/Python/HundredDaysCode/My100Days/Day_017, inifile:\n",
      "plugins: cov-2.6.0\n",
      "collecting ... collected 3 items\n",
      "\n",
      "Day_017.py::test_dedup_and_title_case_names <- <ipython-input-3-a2e98cfd05c2> PASSED             [ 33%]\n",
      "Day_017.py::test_sort_by_surname_desc <- <ipython-input-3-a2e98cfd05c2> PASSED                   [ 66%]\n",
      "Day_017.py::test_shortest_first_name <- <ipython-input-3-a2e98cfd05c2> PASSED                    [100%]\n",
      "\n",
      "======================================= 3 passed in 0.09 seconds =======================================\n"
     ]
    }
   ],
   "source": [
    "def test_dedup_and_title_case_names():\n",
    "    names = dedup_and_title_case_names(NAMES)\n",
    "    assert names.count('Bob Belderbos') == 1\n",
    "    assert names.count('julian sequeira') == 0\n",
    "    assert names.count('Brad Pitt') == 1\n",
    "    assert len(names) == 10\n",
    "    assert all(n.title() in names for n in NAMES)\n",
    "\n",
    "\n",
    "def test_sort_by_surname_desc():\n",
    "    names = sort_by_surname_desc(NAMES)\n",
    "    assert names[0] == 'Julian Sequeira'\n",
    "    assert names[-1] == 'Alec Baldwin'\n",
    "\n",
    "\n",
    "def test_shortest_first_name():\n",
    "    assert shortest_first_name(NAMES) == 'Al'\n",
    "    \n",
    "ipytest.run('-v')"
   ]
  },
  {
   "cell_type": "markdown",
   "metadata": {},
   "source": [
    "#### PyBites: Bite 26"
   ]
  },
  {
   "cell_type": "code",
   "execution_count": 4,
   "metadata": {},
   "outputs": [],
   "source": [
    "bites = {6: 'PyBites Die Hard',\n",
    "         7: 'Parsing dates from logs',\n",
    "         9: 'Palindromes',\n",
    "         10: 'Practice exceptions',\n",
    "         11: 'Enrich a class with dunder methods',\n",
    "         12: 'Write a user validation function',\n",
    "         13: 'Convert dict in namedtuple/json',\n",
    "         14: 'Generate a table of n sequences',\n",
    "         15: 'Enumerate 2 sequences',\n",
    "         16: 'Special PyBites date generator',\n",
    "         17: 'Form teams from a group of friends',\n",
    "         18: 'Find the most common word',\n",
    "         19: 'Write a simple property',\n",
    "         20: 'Write a context manager',\n",
    "         21: 'Query a nested data structure'}\n",
    "exclude_bites = {6, 10, 16, 18, 21}\n",
    "\n",
    "\n",
    "def filter_bites(bites=bites, bites_done=exclude_bites):\n",
    "    \"\"\"return the bites dict with the exclude_bites filtered out\"\"\"\n",
    "    return {k:v for k, v in bites.items() if k not in exclude_bites}"
   ]
  },
  {
   "cell_type": "code",
   "execution_count": 5,
   "metadata": {},
   "outputs": [
    {
     "data": {
      "text/plain": [
       "{7: 'Parsing dates from logs',\n",
       " 9: 'Palindromes',\n",
       " 11: 'Enrich a class with dunder methods',\n",
       " 12: 'Write a user validation function',\n",
       " 13: 'Convert dict in namedtuple/json',\n",
       " 14: 'Generate a table of n sequences',\n",
       " 15: 'Enumerate 2 sequences',\n",
       " 17: 'Form teams from a group of friends',\n",
       " 19: 'Write a simple property',\n",
       " 20: 'Write a context manager'}"
      ]
     },
     "execution_count": 5,
     "metadata": {},
     "output_type": "execute_result"
    }
   ],
   "source": [
    "filter_bites(bites)"
   ]
  },
  {
   "cell_type": "code",
   "execution_count": 6,
   "metadata": {},
   "outputs": [
    {
     "name": "stdout",
     "output_type": "stream",
     "text": [
      "========================================= test session starts ==========================================\n",
      "platform darwin -- Python 3.7.0, pytest-3.8.2, py-1.7.0, pluggy-0.7.1 -- /anaconda3/bin/python\n",
      "cachedir: .pytest_cache\n",
      "rootdir: /Users/NewEarth/Documents/Projects/ANewTraining/Python/HundredDaysCode/My100Days/Day_017, inifile:\n",
      "plugins: cov-2.6.0\n",
      "collecting ... collected 4 items\n",
      "\n",
      "Day_017.py::test_dedup_and_title_case_names <- <ipython-input-3-a2e98cfd05c2> PASSED             [ 25%]\n",
      "Day_017.py::test_sort_by_surname_desc <- <ipython-input-3-a2e98cfd05c2> PASSED                   [ 50%]\n",
      "Day_017.py::test_shortest_first_name <- <ipython-input-3-a2e98cfd05c2> PASSED                    [ 75%]\n",
      "Day_017.py::test_filter_bites <- <ipython-input-6-a538e5380d6c> PASSED                           [100%]\n",
      "\n",
      "=========================================== warnings summary ===========================================\n",
      "/anaconda3/lib/python3.7/site-packages/_pytest/assertion/rewrite.py:268: PytestWarning: Module already imported so cannot be rewritten: pytest_cov\n",
      "  self.config,\n",
      "\n",
      "-- Docs: https://docs.pytest.org/en/latest/warnings.html\n",
      "================================= 4 passed, 1 warnings in 0.21 seconds =================================\n"
     ]
    }
   ],
   "source": [
    "def test_filter_bites():\n",
    "    result = filter_bites()\n",
    "    assert type(result) == dict\n",
    "    assert len(result) == 10\n",
    "    for bite in exclude_bites:\n",
    "        assert bite not in result, f'Bite {bite} should not be in result'\n",
    "        \n",
    "ipytest.run('-v')"
   ]
  }
 ],
 "metadata": {
  "kernelspec": {
   "display_name": "Python 3",
   "language": "python",
   "name": "python3"
  },
  "language_info": {
   "codemirror_mode": {
    "name": "ipython",
    "version": 3
   },
   "file_extension": ".py",
   "mimetype": "text/x-python",
   "name": "python",
   "nbconvert_exporter": "python",
   "pygments_lexer": "ipython3",
   "version": "3.7.0"
  }
 },
 "nbformat": 4,
 "nbformat_minor": 2
}
